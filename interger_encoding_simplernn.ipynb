{
 "cells": [
  {
   "cell_type": "code",
   "execution_count": 1,
   "metadata": {
    "id": "N6W8STuWJl4l"
   },
   "outputs": [
    {
     "name": "stderr",
     "output_type": "stream",
     "text": [
      "C:\\Users\\Abdur rahim nishad\\anaconda3\\lib\\site-packages\\numpy\\_distributor_init.py:30: UserWarning: loaded more than 1 DLL from .libs:\n",
      "C:\\Users\\Abdur rahim nishad\\anaconda3\\lib\\site-packages\\numpy\\.libs\\libopenblas.EL2C6PLE4ZYW3ECEVIV3OXXGRN2NRFM2.gfortran-win_amd64.dll\n",
      "C:\\Users\\Abdur rahim nishad\\anaconda3\\lib\\site-packages\\numpy\\.libs\\libopenblas.XWYDX2IKJW2NMTWSFYNGFUWKQU3LYTCZ.gfortran-win_amd64.dll\n",
      "  warnings.warn(\"loaded more than 1 DLL from .libs:\"\n"
     ]
    }
   ],
   "source": [
    "import numpy as np\n",
    "docs=[\"go bangladesh\",\n",
    "     \"bangladesh bangladesh\",\n",
    "     \"hip hip hurray\",\n",
    "     \"jitbe ebar jitbe cricket\",\n",
    "     \"bangladesh jindabad\",\n",
    "     \"sakib sakib\",\n",
    "     \"mehedi mehedi\",\n",
    "     \"tamim tamim\",\n",
    "     \"allahuakbar allahuakbar\"]"
   ]
  },
  {
   "cell_type": "code",
   "execution_count": 2,
   "metadata": {
    "id": "ntrynf7bKhLE"
   },
   "outputs": [],
   "source": [
    "from keras.preprocessing.text import Tokenizer\n",
    "tokenizer=Tokenizer(oov_token=\"nothing\")"
   ]
  },
  {
   "cell_type": "code",
   "execution_count": 3,
   "metadata": {
    "id": "nB2vrd5rLJq2"
   },
   "outputs": [],
   "source": [
    "tokenizer.fit_on_texts(docs)"
   ]
  },
  {
   "cell_type": "code",
   "execution_count": 4,
   "metadata": {
    "colab": {
     "base_uri": "https://localhost:8080/"
    },
    "id": "NLhhR0czOtX8",
    "outputId": "10a01360-0ccf-4b4e-9a9c-4d6fb8421a5b"
   },
   "outputs": [
    {
     "data": {
      "text/plain": [
       "<keras.preprocessing.text.Tokenizer at 0x13d7ad12e80>"
      ]
     },
     "execution_count": 4,
     "metadata": {},
     "output_type": "execute_result"
    }
   ],
   "source": [
    "tokenizer"
   ]
  },
  {
   "cell_type": "code",
   "execution_count": 5,
   "metadata": {
    "colab": {
     "base_uri": "https://localhost:8080/"
    },
    "id": "Sudxmo22LVmB",
    "outputId": "f0c7a1a1-6921-4249-b95f-dac206738d68"
   },
   "outputs": [
    {
     "data": {
      "text/plain": [
       "{'nothing': 1,\n",
       " 'bangladesh': 2,\n",
       " 'hip': 3,\n",
       " 'jitbe': 4,\n",
       " 'sakib': 5,\n",
       " 'mehedi': 6,\n",
       " 'tamim': 7,\n",
       " 'allahuakbar': 8,\n",
       " 'go': 9,\n",
       " 'hurray': 10,\n",
       " 'ebar': 11,\n",
       " 'cricket': 12,\n",
       " 'jindabad': 13}"
      ]
     },
     "execution_count": 5,
     "metadata": {},
     "output_type": "execute_result"
    }
   ],
   "source": [
    "tokenizer.word_index"
   ]
  },
  {
   "cell_type": "code",
   "execution_count": 6,
   "metadata": {
    "colab": {
     "base_uri": "https://localhost:8080/"
    },
    "id": "UWFaLwjzLgKB",
    "outputId": "f854fb78-0630-4ae8-d65c-1fefeb4960b5"
   },
   "outputs": [
    {
     "data": {
      "text/plain": [
       "OrderedDict([('go', 1),\n",
       "             ('bangladesh', 4),\n",
       "             ('hip', 2),\n",
       "             ('hurray', 1),\n",
       "             ('jitbe', 2),\n",
       "             ('ebar', 1),\n",
       "             ('cricket', 1),\n",
       "             ('jindabad', 1),\n",
       "             ('sakib', 2),\n",
       "             ('mehedi', 2),\n",
       "             ('tamim', 2),\n",
       "             ('allahuakbar', 2)])"
      ]
     },
     "execution_count": 6,
     "metadata": {},
     "output_type": "execute_result"
    }
   ],
   "source": [
    "tokenizer.word_counts"
   ]
  },
  {
   "cell_type": "code",
   "execution_count": 7,
   "metadata": {
    "colab": {
     "base_uri": "https://localhost:8080/"
    },
    "id": "iOhAkN-sPCBl",
    "outputId": "39d88ae5-5a49-46f2-fd20-4b9e3ad15840"
   },
   "outputs": [
    {
     "data": {
      "text/plain": [
       "9"
      ]
     },
     "execution_count": 7,
     "metadata": {},
     "output_type": "execute_result"
    }
   ],
   "source": [
    "tokenizer.document_count"
   ]
  },
  {
   "cell_type": "code",
   "execution_count": 8,
   "metadata": {
    "id": "dunU8_IaL9xZ"
   },
   "outputs": [],
   "source": [
    "sequences=tokenizer.texts_to_sequences(docs)"
   ]
  },
  {
   "cell_type": "code",
   "execution_count": 9,
   "metadata": {
    "colab": {
     "base_uri": "https://localhost:8080/"
    },
    "id": "yRaqlIatMeFB",
    "outputId": "09267290-af70-49ca-b0d7-d7341746acbd"
   },
   "outputs": [
    {
     "data": {
      "text/plain": [
       "[[9, 2],\n",
       " [2, 2],\n",
       " [3, 3, 10],\n",
       " [4, 11, 4, 12],\n",
       " [2, 13],\n",
       " [5, 5],\n",
       " [6, 6],\n",
       " [7, 7],\n",
       " [8, 8]]"
      ]
     },
     "execution_count": 9,
     "metadata": {},
     "output_type": "execute_result"
    }
   ],
   "source": [
    "sequences"
   ]
  },
  {
   "cell_type": "code",
   "execution_count": 10,
   "metadata": {
    "id": "ccMIP5mkMg1B"
   },
   "outputs": [],
   "source": [
    "from keras.utils import pad_sequences"
   ]
  },
  {
   "cell_type": "code",
   "execution_count": 11,
   "metadata": {
    "id": "WnqCAsfxNG1J"
   },
   "outputs": [],
   "source": [
    "sequences=pad_sequences(sequences,padding=\"post\")"
   ]
  },
  {
   "cell_type": "code",
   "execution_count": 12,
   "metadata": {
    "colab": {
     "base_uri": "https://localhost:8080/"
    },
    "id": "tQlfETHRNRto",
    "outputId": "0dc173ec-7ed8-40e4-b20f-d7fda1582748"
   },
   "outputs": [
    {
     "data": {
      "text/plain": [
       "array([[ 9,  2,  0,  0],\n",
       "       [ 2,  2,  0,  0],\n",
       "       [ 3,  3, 10,  0],\n",
       "       [ 4, 11,  4, 12],\n",
       "       [ 2, 13,  0,  0],\n",
       "       [ 5,  5,  0,  0],\n",
       "       [ 6,  6,  0,  0],\n",
       "       [ 7,  7,  0,  0],\n",
       "       [ 8,  8,  0,  0]])"
      ]
     },
     "execution_count": 12,
     "metadata": {},
     "output_type": "execute_result"
    }
   ],
   "source": [
    "sequences"
   ]
  },
  {
   "cell_type": "code",
   "execution_count": 13,
   "metadata": {
    "id": "i32VcmRyNUz4"
   },
   "outputs": [],
   "source": [
    "from keras.datasets import imdb\n",
    "from keras import Sequential\n",
    "from keras.layers import Dense,SimpleRNN,Embedding,Flatten"
   ]
  },
  {
   "cell_type": "code",
   "execution_count": 14,
   "metadata": {
    "colab": {
     "base_uri": "https://localhost:8080/"
    },
    "id": "PIHAx1vaN69h",
    "outputId": "d97fab27-eb5f-4976-a1c1-219908e279e3"
   },
   "outputs": [
    {
     "name": "stdout",
     "output_type": "stream",
     "text": [
      "Downloading data from https://storage.googleapis.com/tensorflow/tf-keras-datasets/imdb.npz\n",
      "17464789/17464789 [==============================] - 9s 1us/step\n"
     ]
    }
   ],
   "source": [
    "(X_train,y_train),(X_test,y_test) = imdb.load_data() #it is encoded data"
   ]
  },
  {
   "cell_type": "code",
   "execution_count": 15,
   "metadata": {
    "colab": {
     "base_uri": "https://localhost:8080/"
    },
    "id": "5dMyIiQDO99k",
    "outputId": "27df6a25-c443-4ae8-bb4b-5a3f28012c03"
   },
   "outputs": [
    {
     "data": {
      "text/plain": [
       "141"
      ]
     },
     "execution_count": 15,
     "metadata": {},
     "output_type": "execute_result"
    }
   ],
   "source": [
    "len(X_train[2])"
   ]
  },
  {
   "cell_type": "code",
   "execution_count": 16,
   "metadata": {
    "colab": {
     "base_uri": "https://localhost:8080/"
    },
    "id": "kTajZsjqbS-s",
    "outputId": "a3880a4f-ba2e-4def-95d7-5b62590be2dc"
   },
   "outputs": [
    {
     "data": {
      "text/plain": [
       "(25000,)"
      ]
     },
     "execution_count": 16,
     "metadata": {},
     "output_type": "execute_result"
    }
   ],
   "source": [
    "X_train.shape"
   ]
  },
  {
   "cell_type": "code",
   "execution_count": 17,
   "metadata": {
    "colab": {
     "base_uri": "https://localhost:8080/"
    },
    "id": "Fn33--i0UNJM",
    "outputId": "d111c248-0841-4f7b-a72e-ca6a428394d6"
   },
   "outputs": [
    {
     "data": {
      "text/plain": [
       "25000"
      ]
     },
     "execution_count": 17,
     "metadata": {},
     "output_type": "execute_result"
    }
   ],
   "source": [
    "len(X_train)"
   ]
  },
  {
   "cell_type": "code",
   "execution_count": 18,
   "metadata": {
    "id": "jVaD4j1mPgoY"
   },
   "outputs": [],
   "source": [
    "X_train=pad_sequences(X_train,padding=\"post\",maxlen=50)\n",
    "X_test=pad_sequences(X_test,padding=\"post\",maxlen=50) "
   ]
  },
  {
   "cell_type": "code",
   "execution_count": 19,
   "metadata": {
    "colab": {
     "base_uri": "https://localhost:8080/"
    },
    "id": "fpzbgwKCQWqg",
    "outputId": "23944545-5b83-4758-dc9d-6a91f7d92595"
   },
   "outputs": [
    {
     "data": {
      "text/plain": [
       "(25000, 50)"
      ]
     },
     "execution_count": 19,
     "metadata": {},
     "output_type": "execute_result"
    }
   ],
   "source": [
    "X_train.shape"
   ]
  },
  {
   "cell_type": "code",
   "execution_count": 20,
   "metadata": {
    "id": "_ru3S_DnQbOX"
   },
   "outputs": [],
   "source": [
    "model=Sequential()\n",
    "model.add(SimpleRNN(32,input_shape=(50,1),return_sequences=False)) #50 timestemp return_sequences=False normal flow of rnn\n",
    "model.add(Dense(1,activation=\"sigmoid\"))"
   ]
  },
  {
   "cell_type": "code",
   "execution_count": 21,
   "metadata": {
    "colab": {
     "base_uri": "https://localhost:8080/"
    },
    "id": "ldhzpGixRPwz",
    "outputId": "a7064674-d328-44f0-ab77-95eacd96066f"
   },
   "outputs": [
    {
     "name": "stdout",
     "output_type": "stream",
     "text": [
      "Model: \"sequential\"\n",
      "_________________________________________________________________\n",
      " Layer (type)                Output Shape              Param #   \n",
      "=================================================================\n",
      " simple_rnn (SimpleRNN)      (None, 32)                1088      \n",
      "                                                                 \n",
      " dense (Dense)               (None, 1)                 33        \n",
      "                                                                 \n",
      "=================================================================\n",
      "Total params: 1,121\n",
      "Trainable params: 1,121\n",
      "Non-trainable params: 0\n",
      "_________________________________________________________________\n"
     ]
    }
   ],
   "source": [
    "model.summary()"
   ]
  },
  {
   "cell_type": "code",
   "execution_count": 22,
   "metadata": {
    "colab": {
     "base_uri": "https://localhost:8080/"
    },
    "id": "NyPISPvoRibh",
    "outputId": "a80e8a5b-ba35-40dd-ad5b-4b864491b9ed"
   },
   "outputs": [
    {
     "data": {
      "text/plain": [
       "50"
      ]
     },
     "execution_count": 22,
     "metadata": {},
     "output_type": "execute_result"
    }
   ],
   "source": [
    "len(X_train[3])"
   ]
  },
  {
   "cell_type": "code",
   "execution_count": 23,
   "metadata": {
    "colab": {
     "base_uri": "https://localhost:8080/"
    },
    "id": "AvCeggnmTqpB",
    "outputId": "524dd8c2-193d-4680-eff2-dce41ff96450"
   },
   "outputs": [
    {
     "name": "stdout",
     "output_type": "stream",
     "text": [
      "Epoch 1/5\n",
      "782/782 [==============================] - 19s 17ms/step - loss: 0.6940 - accuracy: 0.5021 - val_loss: 0.6976 - val_accuracy: 0.5007\n",
      "Epoch 2/5\n",
      "782/782 [==============================] - 13s 17ms/step - loss: 0.6931 - accuracy: 0.5065 - val_loss: 0.6939 - val_accuracy: 0.5051\n",
      "Epoch 3/5\n",
      "782/782 [==============================] - 13s 17ms/step - loss: 0.6930 - accuracy: 0.5044 - val_loss: 0.6940 - val_accuracy: 0.5046\n",
      "Epoch 4/5\n",
      "782/782 [==============================] - 15s 19ms/step - loss: 0.6928 - accuracy: 0.5055 - val_loss: 0.6939 - val_accuracy: 0.5053\n",
      "Epoch 5/5\n",
      "782/782 [==============================] - 13s 16ms/step - loss: 0.6931 - accuracy: 0.5070 - val_loss: 0.6958 - val_accuracy: 0.5070\n"
     ]
    },
    {
     "data": {
      "text/plain": [
       "<keras.callbacks.History at 0x13d071f62e0>"
      ]
     },
     "execution_count": 23,
     "metadata": {},
     "output_type": "execute_result"
    }
   ],
   "source": [
    "model.compile(loss=\"binary_crossentropy\",optimizer=\"adam\",metrics=[\"accuracy\"])\n",
    "model.fit(X_train,y_train,epochs=5,validation_data=(X_test,y_test))"
   ]
  },
  {
   "cell_type": "code",
   "execution_count": null,
   "metadata": {
    "id": "Wz5lgK_EtK8t"
   },
   "outputs": [],
   "source": []
  }
 ],
 "metadata": {
  "accelerator": "GPU",
  "colab": {
   "provenance": []
  },
  "gpuClass": "standard",
  "kernelspec": {
   "display_name": "Python 3 (ipykernel)",
   "language": "python",
   "name": "python3"
  },
  "language_info": {
   "codemirror_mode": {
    "name": "ipython",
    "version": 3
   },
   "file_extension": ".py",
   "mimetype": "text/x-python",
   "name": "python",
   "nbconvert_exporter": "python",
   "pygments_lexer": "ipython3",
   "version": "3.9.7"
  }
 },
 "nbformat": 4,
 "nbformat_minor": 1
}
