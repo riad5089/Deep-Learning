{
 "cells": [
  {
   "cell_type": "code",
   "execution_count": null,
   "metadata": {
    "id": "pBRmErDfEPxm"
   },
   "outputs": [],
   "source": [
    "import numpy as np\n",
    "docs=[\"go bangladesh\",\n",
    "     \"bangladesh bangladesh\",\n",
    "     \"hip hip hurray\",\n",
    "     \"jitbe ebar jitbe cricket\",\n",
    "     \"bangladesh jindabad\",\n",
    "     \"sakib sakib\",\n",
    "     \"mehedi mehedi\",\n",
    "     \"tamim tamim\",\n",
    "     \"allahuakbar allahuakbar\"]"
   ]
  },
  {
   "cell_type": "code",
   "execution_count": null,
   "metadata": {
    "id": "HS6p3CY4FQK2"
   },
   "outputs": [],
   "source": [
    "from keras.preprocessing.text import Tokenizer\n",
    "tokenizer=Tokenizer()"
   ]
  },
  {
   "cell_type": "code",
   "execution_count": null,
   "metadata": {
    "id": "ulmxGoJNFWll"
   },
   "outputs": [],
   "source": [
    "tokenizer.fit_on_texts(docs)"
   ]
  },
  {
   "cell_type": "code",
   "execution_count": null,
   "metadata": {
    "colab": {
     "base_uri": "https://localhost:8080/"
    },
    "id": "fk9XhruGF8NM",
    "outputId": "32a46946-9a05-4b22-b764-edfcb215b2c8"
   },
   "outputs": [
    {
     "data": {
      "text/plain": [
       "12"
      ]
     },
     "execution_count": 11,
     "metadata": {},
     "output_type": "execute_result"
    }
   ],
   "source": [
    "len(tokenizer.word_index)"
   ]
  },
  {
   "cell_type": "code",
   "execution_count": null,
   "metadata": {
    "id": "eE93g_g8GBiU"
   },
   "outputs": [],
   "source": [
    "sequences=tokenizer.texts_to_sequences(docs)"
   ]
  },
  {
   "cell_type": "code",
   "execution_count": null,
   "metadata": {
    "colab": {
     "base_uri": "https://localhost:8080/"
    },
    "id": "vcwa3aBBGMzM",
    "outputId": "98f14c8c-fb08-430c-c1a6-90ce392e059b"
   },
   "outputs": [
    {
     "data": {
      "text/plain": [
       "[[8, 1],\n",
       " [1, 1],\n",
       " [2, 2, 9],\n",
       " [3, 10, 3, 11],\n",
       " [1, 12],\n",
       " [4, 4],\n",
       " [5, 5],\n",
       " [6, 6],\n",
       " [7, 7]]"
      ]
     },
     "execution_count": 10,
     "metadata": {},
     "output_type": "execute_result"
    }
   ],
   "source": [
    "sequences"
   ]
  },
  {
   "cell_type": "code",
   "execution_count": null,
   "metadata": {
    "id": "uBQQaHD8G3XZ"
   },
   "outputs": [],
   "source": [
    "from keras.utils import pad_sequences\n",
    "sequences=pad_sequences(sequences,padding=\"post\")"
   ]
  },
  {
   "cell_type": "code",
   "execution_count": null,
   "metadata": {
    "colab": {
     "base_uri": "https://localhost:8080/"
    },
    "id": "uIgOr4nJHFft",
    "outputId": "1d996c57-8a9a-4150-d42e-a0cf77cb65fa"
   },
   "outputs": [
    {
     "data": {
      "text/plain": [
       "array([[ 8,  1,  0,  0],\n",
       "       [ 1,  1,  0,  0],\n",
       "       [ 2,  2,  9,  0],\n",
       "       [ 3, 10,  3, 11],\n",
       "       [ 1, 12,  0,  0],\n",
       "       [ 4,  4,  0,  0],\n",
       "       [ 5,  5,  0,  0],\n",
       "       [ 6,  6,  0,  0],\n",
       "       [ 7,  7,  0,  0]], dtype=int32)"
      ]
     },
     "execution_count": 13,
     "metadata": {},
     "output_type": "execute_result"
    }
   ],
   "source": [
    "sequences"
   ]
  },
  {
   "cell_type": "code",
   "execution_count": null,
   "metadata": {
    "id": "5Jn9L2q6HyJW"
   },
   "outputs": [],
   "source": [
    "from keras.models import Sequential\n",
    "from keras.layers import Embedding"
   ]
  },
  {
   "cell_type": "code",
   "execution_count": null,
   "metadata": {
    "colab": {
     "base_uri": "https://localhost:8080/"
    },
    "id": "XV2c692yHM9Q",
    "outputId": "084c118b-7c06-4f2e-fd9d-f5b975b6a233"
   },
   "outputs": [
    {
     "name": "stdout",
     "output_type": "stream",
     "text": [
      "Model: \"sequential_3\"\n",
      "_________________________________________________________________\n",
      " Layer (type)                Output Shape              Param #   \n",
      "=================================================================\n",
      " embedding_1 (Embedding)     (None, 4, 2)              24        \n",
      "                                                                 \n",
      "=================================================================\n",
      "Total params: 24\n",
      "Trainable params: 24\n",
      "Non-trainable params: 0\n",
      "_________________________________________________________________\n"
     ]
    }
   ],
   "source": [
    "model = Sequential()\n",
    "model.add(Embedding(12,output_dim=2,input_length=4)) #output_dim means per word represent through 2 numbers\n",
    "\n",
    "model.summary()"
   ]
  },
  {
   "cell_type": "code",
   "execution_count": null,
   "metadata": {
    "id": "To9cxgP6JtxO"
   },
   "outputs": [],
   "source": [
    "model.compile(\"adam\",\"accuracy\")"
   ]
  },
  {
   "cell_type": "code",
   "execution_count": null,
   "metadata": {
    "colab": {
     "base_uri": "https://localhost:8080/"
    },
    "id": "Lkhkcmz7Hsy7",
    "outputId": "3f08472e-59ef-4231-9fe2-e72aa6aef1df"
   },
   "outputs": [
    {
     "name": "stdout",
     "output_type": "stream",
     "text": [
      "1/1 [==============================] - 0s 27ms/step\n",
      "[[[ 0.00288472  0.0400121 ]\n",
      "  [-0.03950218 -0.04147893]\n",
      "  [ 0.02592529 -0.03692202]\n",
      "  [ 0.02592529 -0.03692202]]\n",
      "\n",
      " [[-0.03950218 -0.04147893]\n",
      "  [-0.03950218 -0.04147893]\n",
      "  [ 0.02592529 -0.03692202]\n",
      "  [ 0.02592529 -0.03692202]]\n",
      "\n",
      " [[ 0.02948235  0.01483282]\n",
      "  [ 0.02948235  0.01483282]\n",
      "  [-0.04304504  0.03124309]\n",
      "  [ 0.02592529 -0.03692202]]\n",
      "\n",
      " [[-0.02507217 -0.02518055]\n",
      "  [-0.04031881  0.01862084]\n",
      "  [-0.02507217 -0.02518055]\n",
      "  [-0.00393897  0.03787397]]\n",
      "\n",
      " [[-0.03950218 -0.04147893]\n",
      "  [ 0.          0.        ]\n",
      "  [ 0.02592529 -0.03692202]\n",
      "  [ 0.02592529 -0.03692202]]\n",
      "\n",
      " [[ 0.02247579 -0.02935169]\n",
      "  [ 0.02247579 -0.02935169]\n",
      "  [ 0.02592529 -0.03692202]\n",
      "  [ 0.02592529 -0.03692202]]\n",
      "\n",
      " [[ 0.01119586 -0.0464241 ]\n",
      "  [ 0.01119586 -0.0464241 ]\n",
      "  [ 0.02592529 -0.03692202]\n",
      "  [ 0.02592529 -0.03692202]]\n",
      "\n",
      " [[-0.00224936 -0.04344009]\n",
      "  [-0.00224936 -0.04344009]\n",
      "  [ 0.02592529 -0.03692202]\n",
      "  [ 0.02592529 -0.03692202]]\n",
      "\n",
      " [[ 0.00635096  0.04545475]\n",
      "  [ 0.00635096  0.04545475]\n",
      "  [ 0.02592529 -0.03692202]\n",
      "  [ 0.02592529 -0.03692202]]]\n"
     ]
    }
   ],
   "source": [
    "pred=model.predict(sequences)\n",
    "print(pred)"
   ]
  },
  {
   "cell_type": "code",
   "execution_count": null,
   "metadata": {
    "id": "mtDSZ1lVJkyT"
   },
   "outputs": [],
   "source": [
    "from keras.datasets import imdb\n",
    "from keras import Sequential\n",
    "from keras.layers import Dense,SimpleRNN,Embedding,Flatten"
   ]
  },
  {
   "cell_type": "code",
   "execution_count": null,
   "metadata": {
    "colab": {
     "base_uri": "https://localhost:8080/"
    },
    "id": "VdbFvb8XKKNj",
    "outputId": "e25f2862-46da-4489-c976-3494fd67ae9f"
   },
   "outputs": [
    {
     "name": "stdout",
     "output_type": "stream",
     "text": [
      "Downloading data from https://storage.googleapis.com/tensorflow/tf-keras-datasets/imdb.npz\n",
      "17464789/17464789 [==============================] - 2s 0us/step\n"
     ]
    }
   ],
   "source": [
    "(X_train,y_train),(X_test,y_test) = imdb.load_data()"
   ]
  },
  {
   "cell_type": "code",
   "execution_count": null,
   "metadata": {
    "id": "nLkvNwC_KNt7"
   },
   "outputs": [],
   "source": [
    "X_train=pad_sequences(X_train,padding=\"post\",maxlen=50)\n",
    "X_test=pad_sequences(X_test,padding=\"post\",maxlen=50) "
   ]
  },
  {
   "cell_type": "code",
   "execution_count": null,
   "metadata": {
    "colab": {
     "base_uri": "https://localhost:8080/"
    },
    "id": "3nDGuNCSKShL",
    "outputId": "30f84582-8568-46c8-af84-9f81d4f24e36"
   },
   "outputs": [
    {
     "data": {
      "text/plain": [
       "(25000, 50)"
      ]
     },
     "execution_count": 29,
     "metadata": {},
     "output_type": "execute_result"
    }
   ],
   "source": [
    "X_train.shape"
   ]
  },
  {
   "cell_type": "code",
   "execution_count": null,
   "metadata": {
    "colab": {
     "base_uri": "https://localhost:8080/"
    },
    "id": "wvxZ05RwKVbK",
    "outputId": "e0b1a3b0-c484-44aa-df7a-b98234f1bd86"
   },
   "outputs": [
    {
     "name": "stdout",
     "output_type": "stream",
     "text": [
      "Model: \"sequential_6\"\n",
      "_________________________________________________________________\n",
      " Layer (type)                Output Shape              Param #   \n",
      "=================================================================\n",
      " embedding_4 (Embedding)     (None, 50, 2)             20000     \n",
      "                                                                 \n",
      " simple_rnn_1 (SimpleRNN)    (None, 32)                1120      \n",
      "                                                                 \n",
      " dense_1 (Dense)             (None, 1)                 33        \n",
      "                                                                 \n",
      "=================================================================\n",
      "Total params: 21,153\n",
      "Trainable params: 21,153\n",
      "Non-trainable params: 0\n",
      "_________________________________________________________________\n"
     ]
    }
   ],
   "source": [
    "model=Sequential()\n",
    "model.add(Embedding(10000,2,input_length=50))\n",
    "model.add(SimpleRNN(32,return_sequences=False))\n",
    "model.add(Dense(1,activation=\"sigmoid\"))\n",
    "model.summary()"
   ]
  },
  {
   "cell_type": "code",
   "execution_count": null,
   "metadata": {
    "colab": {
     "base_uri": "https://localhost:8080/"
    },
    "id": "cwEbkEunK-ni",
    "outputId": "8fe0816b-1f25-4f9d-ac9e-83931cd78a49"
   },
   "outputs": [
    {
     "name": "stdout",
     "output_type": "stream",
     "text": [
      "Epoch 1/5\n",
      "782/782 [==============================] - 42s 50ms/step - loss: 0.6266 - accuracy: 0.6120 - val_loss: 0.4622 - val_accuracy: 0.7856\n",
      "Epoch 2/5\n",
      "782/782 [==============================] - 41s 52ms/step - loss: 0.4012 - accuracy: 0.8232 - val_loss: 0.4165 - val_accuracy: 0.8111\n",
      "Epoch 3/5\n",
      "782/782 [==============================] - 39s 50ms/step - loss: 0.3301 - accuracy: 0.8632 - val_loss: 0.4234 - val_accuracy: 0.8108\n",
      "Epoch 4/5\n",
      "782/782 [==============================] - 39s 50ms/step - loss: 0.2900 - accuracy: 0.8846 - val_loss: 0.4514 - val_accuracy: 0.7929\n",
      "Epoch 5/5\n",
      "782/782 [==============================] - 39s 50ms/step - loss: 0.2657 - accuracy: 0.8978 - val_loss: 0.4931 - val_accuracy: 0.7976\n"
     ]
    },
    {
     "data": {
      "text/plain": [
       "<keras.callbacks.History at 0x7fa520182310>"
      ]
     },
     "execution_count": 33,
     "metadata": {},
     "output_type": "execute_result"
    }
   ],
   "source": [
    "model.compile(loss=\"binary_crossentropy\",optimizer=\"adam\",metrics=[\"accuracy\"])\n",
    "model.fit(X_train,y_train,epochs=5,validation_data=(X_test,y_test))"
   ]
  }
 ],
 "metadata": {
  "accelerator": "GPU",
  "colab": {
   "provenance": []
  },
  "gpuClass": "standard",
  "kernelspec": {
   "display_name": "Python 3 (ipykernel)",
   "language": "python",
   "name": "python3"
  },
  "language_info": {
   "codemirror_mode": {
    "name": "ipython",
    "version": 3
   },
   "file_extension": ".py",
   "mimetype": "text/x-python",
   "name": "python",
   "nbconvert_exporter": "python",
   "pygments_lexer": "ipython3",
   "version": "3.9.7"
  }
 },
 "nbformat": 4,
 "nbformat_minor": 1
}
