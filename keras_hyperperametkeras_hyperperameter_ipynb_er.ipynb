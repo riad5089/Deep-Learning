{
 "cells": [
  {
   "cell_type": "code",
   "execution_count": 47,
   "metadata": {
    "id": "5b5X725ybfZ6"
   },
   "outputs": [],
   "source": [
    "import pandas as pd\n",
    "import numpy as np\n",
    "import matplotlib.pyplot as plt"
   ]
  },
  {
   "cell_type": "code",
   "execution_count": 48,
   "metadata": {
    "id": "Aml8x-tuvfbb"
   },
   "outputs": [
    {
     "name": "stdout",
     "output_type": "stream",
     "text": [
      "Note: you may need to restart the kernel to use updated packages.\n"
     ]
    }
   ],
   "source": [
    "pip install -q -U keras-tuner"
   ]
  },
  {
   "cell_type": "code",
   "execution_count": 49,
   "metadata": {
    "id": "YanRHPh4bncU"
   },
   "outputs": [],
   "source": [
    "df=pd.read_csv(\"https://raw.githubusercontent.com/npradaschnor/Pima-Indians-Diabetes-Dataset/master/diabetes.csv\")"
   ]
  },
  {
   "cell_type": "code",
   "execution_count": 50,
   "metadata": {
    "id": "iCtXK8Pkbq3S"
   },
   "outputs": [
    {
     "data": {
      "text/html": [
       "<div>\n",
       "<style scoped>\n",
       "    .dataframe tbody tr th:only-of-type {\n",
       "        vertical-align: middle;\n",
       "    }\n",
       "\n",
       "    .dataframe tbody tr th {\n",
       "        vertical-align: top;\n",
       "    }\n",
       "\n",
       "    .dataframe thead th {\n",
       "        text-align: right;\n",
       "    }\n",
       "</style>\n",
       "<table border=\"1\" class=\"dataframe\">\n",
       "  <thead>\n",
       "    <tr style=\"text-align: right;\">\n",
       "      <th></th>\n",
       "      <th>Pregnancies</th>\n",
       "      <th>Glucose</th>\n",
       "      <th>BloodPressure</th>\n",
       "      <th>SkinThickness</th>\n",
       "      <th>Insulin</th>\n",
       "      <th>BMI</th>\n",
       "      <th>DiabetesPedigreeFunction</th>\n",
       "      <th>Age</th>\n",
       "      <th>Outcome</th>\n",
       "    </tr>\n",
       "  </thead>\n",
       "  <tbody>\n",
       "    <tr>\n",
       "      <th>0</th>\n",
       "      <td>6</td>\n",
       "      <td>148</td>\n",
       "      <td>72</td>\n",
       "      <td>35</td>\n",
       "      <td>0</td>\n",
       "      <td>33.6</td>\n",
       "      <td>0.627</td>\n",
       "      <td>50</td>\n",
       "      <td>1</td>\n",
       "    </tr>\n",
       "    <tr>\n",
       "      <th>1</th>\n",
       "      <td>1</td>\n",
       "      <td>85</td>\n",
       "      <td>66</td>\n",
       "      <td>29</td>\n",
       "      <td>0</td>\n",
       "      <td>26.6</td>\n",
       "      <td>0.351</td>\n",
       "      <td>31</td>\n",
       "      <td>0</td>\n",
       "    </tr>\n",
       "    <tr>\n",
       "      <th>2</th>\n",
       "      <td>8</td>\n",
       "      <td>183</td>\n",
       "      <td>64</td>\n",
       "      <td>0</td>\n",
       "      <td>0</td>\n",
       "      <td>23.3</td>\n",
       "      <td>0.672</td>\n",
       "      <td>32</td>\n",
       "      <td>1</td>\n",
       "    </tr>\n",
       "    <tr>\n",
       "      <th>3</th>\n",
       "      <td>1</td>\n",
       "      <td>89</td>\n",
       "      <td>66</td>\n",
       "      <td>23</td>\n",
       "      <td>94</td>\n",
       "      <td>28.1</td>\n",
       "      <td>0.167</td>\n",
       "      <td>21</td>\n",
       "      <td>0</td>\n",
       "    </tr>\n",
       "    <tr>\n",
       "      <th>4</th>\n",
       "      <td>0</td>\n",
       "      <td>137</td>\n",
       "      <td>40</td>\n",
       "      <td>35</td>\n",
       "      <td>168</td>\n",
       "      <td>43.1</td>\n",
       "      <td>2.288</td>\n",
       "      <td>33</td>\n",
       "      <td>1</td>\n",
       "    </tr>\n",
       "  </tbody>\n",
       "</table>\n",
       "</div>"
      ],
      "text/plain": [
       "   Pregnancies  Glucose  BloodPressure  SkinThickness  Insulin   BMI  \\\n",
       "0            6      148             72             35        0  33.6   \n",
       "1            1       85             66             29        0  26.6   \n",
       "2            8      183             64              0        0  23.3   \n",
       "3            1       89             66             23       94  28.1   \n",
       "4            0      137             40             35      168  43.1   \n",
       "\n",
       "   DiabetesPedigreeFunction  Age  Outcome  \n",
       "0                     0.627   50        1  \n",
       "1                     0.351   31        0  \n",
       "2                     0.672   32        1  \n",
       "3                     0.167   21        0  \n",
       "4                     2.288   33        1  "
      ]
     },
     "execution_count": 50,
     "metadata": {},
     "output_type": "execute_result"
    }
   ],
   "source": [
    "df.head()"
   ]
  },
  {
   "cell_type": "code",
   "execution_count": 51,
   "metadata": {
    "id": "sn1cApjvbshJ"
   },
   "outputs": [
    {
     "data": {
      "text/plain": [
       "Pregnancies                 0.221898\n",
       "Glucose                     0.466581\n",
       "BloodPressure               0.065068\n",
       "SkinThickness               0.074752\n",
       "Insulin                     0.130548\n",
       "BMI                         0.292695\n",
       "DiabetesPedigreeFunction    0.173844\n",
       "Age                         0.238356\n",
       "Outcome                     1.000000\n",
       "Name: Outcome, dtype: float64"
      ]
     },
     "execution_count": 51,
     "metadata": {},
     "output_type": "execute_result"
    }
   ],
   "source": [
    "df.corr()[\"Outcome\"]"
   ]
  },
  {
   "cell_type": "code",
   "execution_count": 52,
   "metadata": {
    "id": "Pj-InSyAcDW6"
   },
   "outputs": [],
   "source": [
    "x=df.iloc[:,:-1]"
   ]
  },
  {
   "cell_type": "code",
   "execution_count": 53,
   "metadata": {
    "id": "-0JRpGUNenZD"
   },
   "outputs": [
    {
     "data": {
      "text/plain": [
       "(768, 8)"
      ]
     },
     "execution_count": 53,
     "metadata": {},
     "output_type": "execute_result"
    }
   ],
   "source": [
    "x.shape"
   ]
  },
  {
   "cell_type": "code",
   "execution_count": 54,
   "metadata": {
    "id": "2rq7LLDtckFJ"
   },
   "outputs": [],
   "source": [
    "y=df.iloc[:,-1]"
   ]
  },
  {
   "cell_type": "code",
   "execution_count": 55,
   "metadata": {
    "id": "Bo0nnT-TclFJ"
   },
   "outputs": [
    {
     "data": {
      "text/plain": [
       "0    1\n",
       "1    0\n",
       "2    1\n",
       "3    0\n",
       "4    1\n",
       "Name: Outcome, dtype: int64"
      ]
     },
     "execution_count": 55,
     "metadata": {},
     "output_type": "execute_result"
    }
   ],
   "source": [
    "y.head()"
   ]
  },
  {
   "cell_type": "code",
   "execution_count": 56,
   "metadata": {
    "id": "qXSnGdggdI5R"
   },
   "outputs": [],
   "source": [
    "from sklearn.preprocessing import StandardScaler\n",
    "from sklearn.compose import ColumnTransformer"
   ]
  },
  {
   "cell_type": "code",
   "execution_count": 57,
   "metadata": {
    "id": "vlFV-Zw8dJAq"
   },
   "outputs": [],
   "source": [
    "tnf1=ColumnTransformer(transformers=[\n",
    "    (\"tnsf\",StandardScaler(),slice(0,9))\n",
    "]\n",
    "\n",
    "\n",
    ")"
   ]
  },
  {
   "cell_type": "code",
   "execution_count": 58,
   "metadata": {
    "id": "yaNZVdiFeQI7"
   },
   "outputs": [],
   "source": [
    "x=tnf1.fit_transform(x)"
   ]
  },
  {
   "cell_type": "code",
   "execution_count": 59,
   "metadata": {
    "id": "byQ3HtbAfXQM"
   },
   "outputs": [
    {
     "data": {
      "text/plain": [
       "(768, 8)"
      ]
     },
     "execution_count": 59,
     "metadata": {},
     "output_type": "execute_result"
    }
   ],
   "source": [
    "x.shape"
   ]
  },
  {
   "cell_type": "code",
   "execution_count": 60,
   "metadata": {
    "id": "jCIEXW0ZeTo5"
   },
   "outputs": [],
   "source": [
    "from sklearn.model_selection import train_test_split"
   ]
  },
  {
   "cell_type": "code",
   "execution_count": 61,
   "metadata": {
    "id": "Rm2Vzy-3fFH5"
   },
   "outputs": [],
   "source": [
    "x_train,x_test,y_train,y_test=train_test_split(x,y,test_size=.2,random_state=1)"
   ]
  },
  {
   "cell_type": "code",
   "execution_count": 62,
   "metadata": {
    "id": "KBTvStfkffLy"
   },
   "outputs": [],
   "source": [
    "import tensorflow as tf\n",
    "from tensorflow import keras\n",
    "from keras.layers import Dense,Dropout\n",
    "from keras.models import Sequential"
   ]
  },
  {
   "cell_type": "code",
   "execution_count": 63,
   "metadata": {
    "id": "33CfGywlfrZB"
   },
   "outputs": [],
   "source": [
    "model=Sequential()\n",
    "model.add(Dense(32,activation=\"relu\",input_dim=8))\n",
    "model.add(Dense(1,activation=\"sigmoid\"))\n",
    "model.compile(optimizer=\"adam\",loss=\"binary_crossentropy\",metrics=[\"accuracy\"])"
   ]
  },
  {
   "cell_type": "code",
   "execution_count": 64,
   "metadata": {
    "id": "0yjgdDiAgCHY"
   },
   "outputs": [
    {
     "name": "stdout",
     "output_type": "stream",
     "text": [
      "Epoch 1/100\n",
      "20/20 [==============================] - 1s 11ms/step - loss: 0.6828 - accuracy: 0.5879 - val_loss: 0.6419 - val_accuracy: 0.6883\n",
      "Epoch 2/100\n",
      "20/20 [==============================] - 0s 5ms/step - loss: 0.6330 - accuracy: 0.6710 - val_loss: 0.5933 - val_accuracy: 0.7532\n",
      "Epoch 3/100\n",
      "20/20 [==============================] - 0s 4ms/step - loss: 0.5953 - accuracy: 0.7329 - val_loss: 0.5589 - val_accuracy: 0.7597\n",
      "Epoch 4/100\n",
      "20/20 [==============================] - 0s 4ms/step - loss: 0.5684 - accuracy: 0.7590 - val_loss: 0.5341 - val_accuracy: 0.7792\n",
      "Epoch 5/100\n",
      "20/20 [==============================] - 0s 4ms/step - loss: 0.5474 - accuracy: 0.7720 - val_loss: 0.5181 - val_accuracy: 0.7922\n",
      "Epoch 6/100\n",
      "20/20 [==============================] - 0s 4ms/step - loss: 0.5299 - accuracy: 0.7606 - val_loss: 0.5022 - val_accuracy: 0.7987\n",
      "Epoch 7/100\n",
      "20/20 [==============================] - 0s 4ms/step - loss: 0.5148 - accuracy: 0.7687 - val_loss: 0.4907 - val_accuracy: 0.8052\n",
      "Epoch 8/100\n",
      "20/20 [==============================] - 0s 4ms/step - loss: 0.5038 - accuracy: 0.7687 - val_loss: 0.4819 - val_accuracy: 0.8117\n",
      "Epoch 9/100\n",
      "20/20 [==============================] - 0s 4ms/step - loss: 0.4948 - accuracy: 0.7671 - val_loss: 0.4758 - val_accuracy: 0.8117\n",
      "Epoch 10/100\n",
      "20/20 [==============================] - 0s 4ms/step - loss: 0.4878 - accuracy: 0.7704 - val_loss: 0.4714 - val_accuracy: 0.8182\n",
      "Epoch 11/100\n",
      "20/20 [==============================] - 0s 4ms/step - loss: 0.4815 - accuracy: 0.7752 - val_loss: 0.4682 - val_accuracy: 0.8052\n",
      "Epoch 12/100\n",
      "20/20 [==============================] - 0s 4ms/step - loss: 0.4771 - accuracy: 0.7769 - val_loss: 0.4648 - val_accuracy: 0.8052\n",
      "Epoch 13/100\n",
      "20/20 [==============================] - 0s 4ms/step - loss: 0.4730 - accuracy: 0.7785 - val_loss: 0.4641 - val_accuracy: 0.7922\n",
      "Epoch 14/100\n",
      "20/20 [==============================] - 0s 4ms/step - loss: 0.4700 - accuracy: 0.7720 - val_loss: 0.4633 - val_accuracy: 0.7922\n",
      "Epoch 15/100\n",
      "20/20 [==============================] - 0s 3ms/step - loss: 0.4673 - accuracy: 0.7752 - val_loss: 0.4626 - val_accuracy: 0.7922\n",
      "Epoch 16/100\n",
      "20/20 [==============================] - 0s 4ms/step - loss: 0.4648 - accuracy: 0.7752 - val_loss: 0.4610 - val_accuracy: 0.7987\n",
      "Epoch 17/100\n",
      "20/20 [==============================] - 0s 4ms/step - loss: 0.4625 - accuracy: 0.7785 - val_loss: 0.4607 - val_accuracy: 0.7987\n",
      "Epoch 18/100\n",
      "20/20 [==============================] - 0s 4ms/step - loss: 0.4602 - accuracy: 0.7752 - val_loss: 0.4606 - val_accuracy: 0.7987\n",
      "Epoch 19/100\n",
      "20/20 [==============================] - 0s 4ms/step - loss: 0.4590 - accuracy: 0.7752 - val_loss: 0.4612 - val_accuracy: 0.7922\n",
      "Epoch 20/100\n",
      "20/20 [==============================] - 0s 4ms/step - loss: 0.4574 - accuracy: 0.7752 - val_loss: 0.4619 - val_accuracy: 0.7922\n",
      "Epoch 21/100\n",
      "20/20 [==============================] - 0s 4ms/step - loss: 0.4559 - accuracy: 0.7785 - val_loss: 0.4609 - val_accuracy: 0.7987\n",
      "Epoch 22/100\n",
      "20/20 [==============================] - 0s 4ms/step - loss: 0.4548 - accuracy: 0.7785 - val_loss: 0.4605 - val_accuracy: 0.7987\n",
      "Epoch 23/100\n",
      "20/20 [==============================] - 0s 3ms/step - loss: 0.4537 - accuracy: 0.7752 - val_loss: 0.4610 - val_accuracy: 0.8052\n",
      "Epoch 24/100\n",
      "20/20 [==============================] - 0s 4ms/step - loss: 0.4528 - accuracy: 0.7785 - val_loss: 0.4601 - val_accuracy: 0.8117\n",
      "Epoch 25/100\n",
      "20/20 [==============================] - 0s 4ms/step - loss: 0.4518 - accuracy: 0.7801 - val_loss: 0.4612 - val_accuracy: 0.8052\n",
      "Epoch 26/100\n",
      "20/20 [==============================] - 0s 4ms/step - loss: 0.4510 - accuracy: 0.7785 - val_loss: 0.4623 - val_accuracy: 0.7922\n",
      "Epoch 27/100\n",
      "20/20 [==============================] - 0s 4ms/step - loss: 0.4500 - accuracy: 0.7785 - val_loss: 0.4604 - val_accuracy: 0.8052\n",
      "Epoch 28/100\n",
      "20/20 [==============================] - 0s 4ms/step - loss: 0.4490 - accuracy: 0.7785 - val_loss: 0.4609 - val_accuracy: 0.7987\n",
      "Epoch 29/100\n",
      "20/20 [==============================] - 0s 4ms/step - loss: 0.4483 - accuracy: 0.7801 - val_loss: 0.4614 - val_accuracy: 0.7987\n",
      "Epoch 30/100\n",
      "20/20 [==============================] - 0s 3ms/step - loss: 0.4477 - accuracy: 0.7752 - val_loss: 0.4615 - val_accuracy: 0.8117\n",
      "Epoch 31/100\n",
      "20/20 [==============================] - 0s 4ms/step - loss: 0.4471 - accuracy: 0.7752 - val_loss: 0.4600 - val_accuracy: 0.8052\n",
      "Epoch 32/100\n",
      "20/20 [==============================] - 0s 3ms/step - loss: 0.4461 - accuracy: 0.7801 - val_loss: 0.4608 - val_accuracy: 0.8052\n",
      "Epoch 33/100\n",
      "20/20 [==============================] - 0s 4ms/step - loss: 0.4457 - accuracy: 0.7785 - val_loss: 0.4630 - val_accuracy: 0.8117\n",
      "Epoch 34/100\n",
      "20/20 [==============================] - 0s 5ms/step - loss: 0.4453 - accuracy: 0.7785 - val_loss: 0.4612 - val_accuracy: 0.8117\n",
      "Epoch 35/100\n",
      "20/20 [==============================] - 0s 4ms/step - loss: 0.4439 - accuracy: 0.7801 - val_loss: 0.4610 - val_accuracy: 0.8117\n",
      "Epoch 36/100\n",
      "20/20 [==============================] - 0s 4ms/step - loss: 0.4436 - accuracy: 0.7785 - val_loss: 0.4624 - val_accuracy: 0.8117\n",
      "Epoch 37/100\n",
      "20/20 [==============================] - 0s 4ms/step - loss: 0.4429 - accuracy: 0.7785 - val_loss: 0.4620 - val_accuracy: 0.8117\n",
      "Epoch 38/100\n",
      "20/20 [==============================] - 0s 3ms/step - loss: 0.4422 - accuracy: 0.7801 - val_loss: 0.4628 - val_accuracy: 0.8117\n",
      "Epoch 39/100\n",
      "20/20 [==============================] - 0s 3ms/step - loss: 0.4418 - accuracy: 0.7801 - val_loss: 0.4631 - val_accuracy: 0.8182\n",
      "Epoch 40/100\n",
      "20/20 [==============================] - 0s 4ms/step - loss: 0.4409 - accuracy: 0.7785 - val_loss: 0.4633 - val_accuracy: 0.8182\n",
      "Epoch 41/100\n",
      "20/20 [==============================] - 0s 4ms/step - loss: 0.4404 - accuracy: 0.7785 - val_loss: 0.4640 - val_accuracy: 0.8117\n",
      "Epoch 42/100\n",
      "20/20 [==============================] - 0s 3ms/step - loss: 0.4399 - accuracy: 0.7736 - val_loss: 0.4631 - val_accuracy: 0.8117\n",
      "Epoch 43/100\n",
      "20/20 [==============================] - 0s 3ms/step - loss: 0.4393 - accuracy: 0.7769 - val_loss: 0.4637 - val_accuracy: 0.8117\n",
      "Epoch 44/100\n",
      "20/20 [==============================] - 0s 3ms/step - loss: 0.4388 - accuracy: 0.7769 - val_loss: 0.4632 - val_accuracy: 0.8052\n",
      "Epoch 45/100\n",
      "20/20 [==============================] - 0s 4ms/step - loss: 0.4380 - accuracy: 0.7752 - val_loss: 0.4628 - val_accuracy: 0.8052\n",
      "Epoch 46/100\n",
      "20/20 [==============================] - 0s 3ms/step - loss: 0.4375 - accuracy: 0.7785 - val_loss: 0.4636 - val_accuracy: 0.8117\n",
      "Epoch 47/100\n",
      "20/20 [==============================] - 0s 3ms/step - loss: 0.4371 - accuracy: 0.7769 - val_loss: 0.4641 - val_accuracy: 0.8247\n",
      "Epoch 48/100\n",
      "20/20 [==============================] - 0s 4ms/step - loss: 0.4363 - accuracy: 0.7801 - val_loss: 0.4621 - val_accuracy: 0.8247\n",
      "Epoch 49/100\n",
      "20/20 [==============================] - 0s 3ms/step - loss: 0.4370 - accuracy: 0.7801 - val_loss: 0.4598 - val_accuracy: 0.8117\n",
      "Epoch 50/100\n",
      "20/20 [==============================] - 0s 3ms/step - loss: 0.4350 - accuracy: 0.7850 - val_loss: 0.4617 - val_accuracy: 0.8247\n",
      "Epoch 51/100\n",
      "20/20 [==============================] - 0s 4ms/step - loss: 0.4352 - accuracy: 0.7818 - val_loss: 0.4614 - val_accuracy: 0.8247\n",
      "Epoch 52/100\n",
      "20/20 [==============================] - 0s 3ms/step - loss: 0.4344 - accuracy: 0.7850 - val_loss: 0.4631 - val_accuracy: 0.8247\n",
      "Epoch 53/100\n",
      "20/20 [==============================] - 0s 4ms/step - loss: 0.4339 - accuracy: 0.7818 - val_loss: 0.4622 - val_accuracy: 0.8182\n",
      "Epoch 54/100\n",
      "20/20 [==============================] - 0s 4ms/step - loss: 0.4336 - accuracy: 0.7801 - val_loss: 0.4623 - val_accuracy: 0.8182\n",
      "Epoch 55/100\n",
      "20/20 [==============================] - 0s 3ms/step - loss: 0.4326 - accuracy: 0.7850 - val_loss: 0.4620 - val_accuracy: 0.8182\n",
      "Epoch 56/100\n",
      "20/20 [==============================] - 0s 4ms/step - loss: 0.4328 - accuracy: 0.7801 - val_loss: 0.4632 - val_accuracy: 0.8182\n",
      "Epoch 57/100\n",
      "20/20 [==============================] - 0s 4ms/step - loss: 0.4319 - accuracy: 0.7883 - val_loss: 0.4600 - val_accuracy: 0.7987\n",
      "Epoch 58/100\n",
      "20/20 [==============================] - 0s 4ms/step - loss: 0.4315 - accuracy: 0.7883 - val_loss: 0.4611 - val_accuracy: 0.8117\n"
     ]
    },
    {
     "name": "stdout",
     "output_type": "stream",
     "text": [
      "Epoch 59/100\n",
      "20/20 [==============================] - 0s 3ms/step - loss: 0.4309 - accuracy: 0.7883 - val_loss: 0.4612 - val_accuracy: 0.8247\n",
      "Epoch 60/100\n",
      "20/20 [==============================] - 0s 4ms/step - loss: 0.4307 - accuracy: 0.7899 - val_loss: 0.4611 - val_accuracy: 0.8182\n",
      "Epoch 61/100\n",
      "20/20 [==============================] - 0s 4ms/step - loss: 0.4304 - accuracy: 0.7850 - val_loss: 0.4610 - val_accuracy: 0.8247\n",
      "Epoch 62/100\n",
      "20/20 [==============================] - 0s 3ms/step - loss: 0.4296 - accuracy: 0.7915 - val_loss: 0.4612 - val_accuracy: 0.8247\n",
      "Epoch 63/100\n",
      "20/20 [==============================] - 0s 3ms/step - loss: 0.4297 - accuracy: 0.7866 - val_loss: 0.4609 - val_accuracy: 0.8247\n",
      "Epoch 64/100\n",
      "20/20 [==============================] - 0s 3ms/step - loss: 0.4293 - accuracy: 0.7866 - val_loss: 0.4612 - val_accuracy: 0.8247\n",
      "Epoch 65/100\n",
      "20/20 [==============================] - 0s 4ms/step - loss: 0.4283 - accuracy: 0.7899 - val_loss: 0.4603 - val_accuracy: 0.8247\n",
      "Epoch 66/100\n",
      "20/20 [==============================] - 0s 3ms/step - loss: 0.4292 - accuracy: 0.7948 - val_loss: 0.4620 - val_accuracy: 0.8182\n",
      "Epoch 67/100\n",
      "20/20 [==============================] - 0s 4ms/step - loss: 0.4278 - accuracy: 0.7883 - val_loss: 0.4596 - val_accuracy: 0.8182\n",
      "Epoch 68/100\n",
      "20/20 [==============================] - 0s 3ms/step - loss: 0.4277 - accuracy: 0.7932 - val_loss: 0.4594 - val_accuracy: 0.8182\n",
      "Epoch 69/100\n",
      "20/20 [==============================] - 0s 3ms/step - loss: 0.4271 - accuracy: 0.7915 - val_loss: 0.4612 - val_accuracy: 0.8182\n",
      "Epoch 70/100\n",
      "20/20 [==============================] - 0s 3ms/step - loss: 0.4272 - accuracy: 0.7883 - val_loss: 0.4617 - val_accuracy: 0.8247\n",
      "Epoch 71/100\n",
      "20/20 [==============================] - 0s 4ms/step - loss: 0.4269 - accuracy: 0.7915 - val_loss: 0.4636 - val_accuracy: 0.8247\n",
      "Epoch 72/100\n",
      "20/20 [==============================] - 0s 3ms/step - loss: 0.4262 - accuracy: 0.7932 - val_loss: 0.4636 - val_accuracy: 0.8247\n",
      "Epoch 73/100\n",
      "20/20 [==============================] - 0s 3ms/step - loss: 0.4257 - accuracy: 0.7915 - val_loss: 0.4641 - val_accuracy: 0.8247\n",
      "Epoch 74/100\n",
      "20/20 [==============================] - 0s 3ms/step - loss: 0.4250 - accuracy: 0.7932 - val_loss: 0.4646 - val_accuracy: 0.8247\n",
      "Epoch 75/100\n",
      "20/20 [==============================] - 0s 3ms/step - loss: 0.4250 - accuracy: 0.7932 - val_loss: 0.4653 - val_accuracy: 0.8247\n",
      "Epoch 76/100\n",
      "20/20 [==============================] - 0s 3ms/step - loss: 0.4245 - accuracy: 0.7964 - val_loss: 0.4651 - val_accuracy: 0.8117\n",
      "Epoch 77/100\n",
      "20/20 [==============================] - 0s 4ms/step - loss: 0.4244 - accuracy: 0.7997 - val_loss: 0.4634 - val_accuracy: 0.8182\n",
      "Epoch 78/100\n",
      "20/20 [==============================] - 0s 4ms/step - loss: 0.4237 - accuracy: 0.8013 - val_loss: 0.4645 - val_accuracy: 0.8182\n",
      "Epoch 79/100\n",
      "20/20 [==============================] - 0s 4ms/step - loss: 0.4236 - accuracy: 0.8062 - val_loss: 0.4651 - val_accuracy: 0.8182\n",
      "Epoch 80/100\n",
      "20/20 [==============================] - 0s 3ms/step - loss: 0.4241 - accuracy: 0.7964 - val_loss: 0.4653 - val_accuracy: 0.8117\n",
      "Epoch 81/100\n",
      "20/20 [==============================] - 0s 4ms/step - loss: 0.4232 - accuracy: 0.7997 - val_loss: 0.4658 - val_accuracy: 0.8182\n",
      "Epoch 82/100\n",
      "20/20 [==============================] - 0s 3ms/step - loss: 0.4225 - accuracy: 0.8029 - val_loss: 0.4657 - val_accuracy: 0.8247\n",
      "Epoch 83/100\n",
      "20/20 [==============================] - 0s 4ms/step - loss: 0.4233 - accuracy: 0.7915 - val_loss: 0.4672 - val_accuracy: 0.8182\n",
      "Epoch 84/100\n",
      "20/20 [==============================] - 0s 4ms/step - loss: 0.4224 - accuracy: 0.7997 - val_loss: 0.4661 - val_accuracy: 0.8182\n",
      "Epoch 85/100\n",
      "20/20 [==============================] - 0s 4ms/step - loss: 0.4217 - accuracy: 0.8013 - val_loss: 0.4672 - val_accuracy: 0.8182\n",
      "Epoch 86/100\n",
      "20/20 [==============================] - 0s 4ms/step - loss: 0.4219 - accuracy: 0.7997 - val_loss: 0.4706 - val_accuracy: 0.8182\n",
      "Epoch 87/100\n",
      "20/20 [==============================] - 0s 4ms/step - loss: 0.4217 - accuracy: 0.8046 - val_loss: 0.4672 - val_accuracy: 0.8182\n",
      "Epoch 88/100\n",
      "20/20 [==============================] - 0s 4ms/step - loss: 0.4204 - accuracy: 0.8046 - val_loss: 0.4666 - val_accuracy: 0.8182\n",
      "Epoch 89/100\n",
      "20/20 [==============================] - 0s 4ms/step - loss: 0.4203 - accuracy: 0.8029 - val_loss: 0.4674 - val_accuracy: 0.8182\n",
      "Epoch 90/100\n",
      "20/20 [==============================] - 0s 4ms/step - loss: 0.4205 - accuracy: 0.7948 - val_loss: 0.4704 - val_accuracy: 0.8182\n",
      "Epoch 91/100\n",
      "20/20 [==============================] - 0s 5ms/step - loss: 0.4202 - accuracy: 0.7980 - val_loss: 0.4680 - val_accuracy: 0.8247\n",
      "Epoch 92/100\n",
      "20/20 [==============================] - 0s 4ms/step - loss: 0.4199 - accuracy: 0.7997 - val_loss: 0.4668 - val_accuracy: 0.8182\n",
      "Epoch 93/100\n",
      "20/20 [==============================] - 0s 4ms/step - loss: 0.4197 - accuracy: 0.7980 - val_loss: 0.4677 - val_accuracy: 0.8247\n",
      "Epoch 94/100\n",
      "20/20 [==============================] - 0s 3ms/step - loss: 0.4192 - accuracy: 0.8078 - val_loss: 0.4665 - val_accuracy: 0.8182\n",
      "Epoch 95/100\n",
      "20/20 [==============================] - 0s 3ms/step - loss: 0.4187 - accuracy: 0.8062 - val_loss: 0.4677 - val_accuracy: 0.8182\n",
      "Epoch 96/100\n",
      "20/20 [==============================] - 0s 3ms/step - loss: 0.4183 - accuracy: 0.8078 - val_loss: 0.4695 - val_accuracy: 0.8182\n",
      "Epoch 97/100\n",
      "20/20 [==============================] - 0s 4ms/step - loss: 0.4182 - accuracy: 0.8029 - val_loss: 0.4698 - val_accuracy: 0.8117\n",
      "Epoch 98/100\n",
      "20/20 [==============================] - 0s 4ms/step - loss: 0.4179 - accuracy: 0.8094 - val_loss: 0.4686 - val_accuracy: 0.8182\n",
      "Epoch 99/100\n",
      "20/20 [==============================] - 0s 4ms/step - loss: 0.4189 - accuracy: 0.8127 - val_loss: 0.4667 - val_accuracy: 0.8117\n",
      "Epoch 100/100\n",
      "20/20 [==============================] - 0s 4ms/step - loss: 0.4185 - accuracy: 0.8094 - val_loss: 0.4683 - val_accuracy: 0.8182\n"
     ]
    }
   ],
   "source": [
    "history=model.fit(x_train,y_train,batch_size=32,epochs=100,validation_data=(x_test,y_test))"
   ]
  },
  {
   "cell_type": "code",
   "execution_count": 65,
   "metadata": {
    "id": "jC-5fr87hVtp"
   },
   "outputs": [
    {
     "data": {
      "text/plain": [
       "[<matplotlib.lines.Line2D at 0x25b96d1e8e0>]"
      ]
     },
     "execution_count": 65,
     "metadata": {},
     "output_type": "execute_result"
    },
    {
     "data": {
      "image/png": "[encoded data removed]",
      "text/plain": [
       "<Figure size 432x288 with 1 Axes>"
      ]
     },
     "metadata": {
      "needs_background": "light"
     },
     "output_type": "display_data"
    }
   ],
   "source": [
    "plt.plot(history.history[\"val_loss\"])"
   ]
  },
  {
   "cell_type": "code",
   "execution_count": 66,
   "metadata": {
    "id": "iBLzUKUEhmcH"
   },
   "outputs": [],
   "source": [
    "#1. how to select appropriate optimizer\n",
    "#2. No,of nodes in a layers\n",
    "#3. How to sleect no.of layer\n",
    "#4. all in all one model"
   ]
  },
  {
   "cell_type": "code",
   "execution_count": 67,
   "metadata": {
    "id": "B7DD6oCsp2SZ"
   },
   "outputs": [],
   "source": [
    "import kerastuner as kt"
   ]
  },
  {
   "cell_type": "markdown",
   "metadata": {},
   "source": [
    "# how to select appropriate optimizer"
   ]
  },
  {
   "cell_type": "code",
   "execution_count": 68,
   "metadata": {
    "id": "TogbZmtFp87q"
   },
   "outputs": [],
   "source": [
    "def build_model(hp):\n",
    "    model=Sequential()\n",
    "    model.add(Dense(32,activation=\"relu\",input_dim=8))\n",
    "    model.add(Dense(1,activation=\"sigmoid\"))\n",
    "    optimizer=hp.Choice(\"optimizer\",[\"adam\",\"sgd\",\"rmsprop\",\"adadelta\"])\n",
    "    model.compile(optimizer=optimizer,loss=\"binary_crossentropy\",metrics=[\"accuracy\"])\n",
    "    return model"
   ]
  },
  {
   "cell_type": "code",
   "execution_count": 69,
   "metadata": {
    "id": "rJJxUZM3p7iR"
   },
   "outputs": [
    {
     "name": "stdout",
     "output_type": "stream",
     "text": [
      "INFO:tensorflow:Reloading Oracle from existing project .\\untitled_project\\oracle.json\n",
      "INFO:tensorflow:Reloading Tuner from .\\untitled_project\\tuner0.json\n"
     ]
    }
   ],
   "source": [
    "tuner=kt.RandomSearch(build_model,objective=\"val_accuracy\",max_trials=5)"
   ]
  },
  {
   "cell_type": "code",
   "execution_count": 70,
   "metadata": {
    "id": "RICpfiGptKMY"
   },
   "outputs": [
    {
     "name": "stdout",
     "output_type": "stream",
     "text": [
      "INFO:tensorflow:Oracle triggered exit\n"
     ]
    }
   ],
   "source": [
    "tuner.search(x_train,y_train,epochs=5,validation_data=(x_test,y_test))"
   ]
  },
  {
   "cell_type": "code",
   "execution_count": 71,
   "metadata": {
    "id": "xj7YCbYltaMJ"
   },
   "outputs": [
    {
     "data": {
      "text/plain": [
       "{'optimizer': 'rmsprop'}"
      ]
     },
     "execution_count": 71,
     "metadata": {},
     "output_type": "execute_result"
    }
   ],
   "source": [
    "tuner.get_best_hyperparameters()[0].values"
   ]
  },
  {
   "cell_type": "code",
   "execution_count": 26,
   "metadata": {
    "id": "ZbW6qi8ev5Hb"
   },
   "outputs": [],
   "source": [
    "model=tuner.get_best_models(num_models=1)[0]"
   ]
  },
  {
   "cell_type": "code",
   "execution_count": 27,
   "metadata": {
    "id": "glqW245-wrvA"
   },
   "outputs": [
    {
     "name": "stdout",
     "output_type": "stream",
     "text": [
      "Model: \"sequential\"\n",
      "_________________________________________________________________\n",
      " Layer (type)                Output Shape              Param #   \n",
      "=================================================================\n",
      " dense (Dense)               (None, 32)                288       \n",
      "                                                                 \n",
      " dense_1 (Dense)             (None, 1)                 33        \n",
      "                                                                 \n",
      "=================================================================\n",
      "Total params: 321\n",
      "Trainable params: 321\n",
      "Non-trainable params: 0\n",
      "_________________________________________________________________\n"
     ]
    }
   ],
   "source": [
    "model.summary()"
   ]
  },
  {
   "cell_type": "code",
   "execution_count": 28,
   "metadata": {
    "id": "Z5IcucuUw5Sd"
   },
   "outputs": [
    {
     "name": "stdout",
     "output_type": "stream",
     "text": [
      "Epoch 7/100\n",
      "20/20 [==============================] - 1s 18ms/step - loss: 0.5337 - accuracy: 0.7215 - val_loss: 0.5084 - val_accuracy: 0.7922\n",
      "Epoch 8/100\n",
      "20/20 [==============================] - 0s 4ms/step - loss: 0.5185 - accuracy: 0.7345 - val_loss: 0.4966 - val_accuracy: 0.7922\n",
      "Epoch 9/100\n",
      "20/20 [==============================] - 0s 5ms/step - loss: 0.5052 - accuracy: 0.7492 - val_loss: 0.4891 - val_accuracy: 0.7857\n",
      "Epoch 10/100\n",
      "20/20 [==============================] - 0s 4ms/step - loss: 0.4949 - accuracy: 0.7410 - val_loss: 0.4822 - val_accuracy: 0.7922\n",
      "Epoch 11/100\n",
      "20/20 [==============================] - 0s 5ms/step - loss: 0.4867 - accuracy: 0.7492 - val_loss: 0.4788 - val_accuracy: 0.7922\n",
      "Epoch 12/100\n",
      "20/20 [==============================] - 0s 5ms/step - loss: 0.4811 - accuracy: 0.7557 - val_loss: 0.4747 - val_accuracy: 0.7922\n",
      "Epoch 13/100\n",
      "20/20 [==============================] - 0s 5ms/step - loss: 0.4758 - accuracy: 0.7590 - val_loss: 0.4719 - val_accuracy: 0.7987\n",
      "Epoch 14/100\n",
      "20/20 [==============================] - 0s 5ms/step - loss: 0.4714 - accuracy: 0.7606 - val_loss: 0.4708 - val_accuracy: 0.8052\n",
      "Epoch 15/100\n",
      "20/20 [==============================] - 0s 5ms/step - loss: 0.4679 - accuracy: 0.7671 - val_loss: 0.4705 - val_accuracy: 0.7987\n",
      "Epoch 16/100\n",
      "20/20 [==============================] - 0s 4ms/step - loss: 0.4646 - accuracy: 0.7720 - val_loss: 0.4688 - val_accuracy: 0.7987\n",
      "Epoch 17/100\n",
      "20/20 [==============================] - 0s 5ms/step - loss: 0.4626 - accuracy: 0.7785 - val_loss: 0.4685 - val_accuracy: 0.7987\n",
      "Epoch 18/100\n",
      "20/20 [==============================] - 0s 5ms/step - loss: 0.4605 - accuracy: 0.7752 - val_loss: 0.4674 - val_accuracy: 0.8052\n",
      "Epoch 19/100\n",
      "20/20 [==============================] - 0s 6ms/step - loss: 0.4582 - accuracy: 0.7720 - val_loss: 0.4686 - val_accuracy: 0.8117\n",
      "Epoch 20/100\n",
      "20/20 [==============================] - 0s 5ms/step - loss: 0.4566 - accuracy: 0.7736 - val_loss: 0.4690 - val_accuracy: 0.8117\n",
      "Epoch 21/100\n",
      "20/20 [==============================] - 0s 5ms/step - loss: 0.4555 - accuracy: 0.7752 - val_loss: 0.4687 - val_accuracy: 0.8117\n",
      "Epoch 22/100\n",
      "20/20 [==============================] - 0s 5ms/step - loss: 0.4540 - accuracy: 0.7752 - val_loss: 0.4673 - val_accuracy: 0.8052\n",
      "Epoch 23/100\n",
      "20/20 [==============================] - 0s 4ms/step - loss: 0.4530 - accuracy: 0.7752 - val_loss: 0.4670 - val_accuracy: 0.7987\n",
      "Epoch 24/100\n",
      "20/20 [==============================] - 0s 6ms/step - loss: 0.4515 - accuracy: 0.7720 - val_loss: 0.4672 - val_accuracy: 0.7987\n",
      "Epoch 25/100\n",
      "20/20 [==============================] - 0s 5ms/step - loss: 0.4506 - accuracy: 0.7720 - val_loss: 0.4690 - val_accuracy: 0.8052\n",
      "Epoch 26/100\n",
      "20/20 [==============================] - 0s 5ms/step - loss: 0.4492 - accuracy: 0.7704 - val_loss: 0.4689 - val_accuracy: 0.8052\n",
      "Epoch 27/100\n",
      "20/20 [==============================] - 0s 7ms/step - loss: 0.4487 - accuracy: 0.7720 - val_loss: 0.4682 - val_accuracy: 0.7987\n",
      "Epoch 28/100\n",
      "20/20 [==============================] - 0s 6ms/step - loss: 0.4480 - accuracy: 0.7704 - val_loss: 0.4678 - val_accuracy: 0.7987\n",
      "Epoch 29/100\n",
      "20/20 [==============================] - 0s 6ms/step - loss: 0.4469 - accuracy: 0.7687 - val_loss: 0.4675 - val_accuracy: 0.7987\n",
      "Epoch 30/100\n",
      "20/20 [==============================] - 0s 6ms/step - loss: 0.4466 - accuracy: 0.7752 - val_loss: 0.4676 - val_accuracy: 0.7987\n",
      "Epoch 31/100\n",
      "20/20 [==============================] - 0s 5ms/step - loss: 0.4456 - accuracy: 0.7769 - val_loss: 0.4669 - val_accuracy: 0.7987\n",
      "Epoch 32/100\n",
      "20/20 [==============================] - 0s 6ms/step - loss: 0.4442 - accuracy: 0.7769 - val_loss: 0.4682 - val_accuracy: 0.7987\n",
      "Epoch 33/100\n",
      "20/20 [==============================] - 0s 5ms/step - loss: 0.4439 - accuracy: 0.7736 - val_loss: 0.4683 - val_accuracy: 0.7987\n",
      "Epoch 34/100\n",
      "20/20 [==============================] - 0s 5ms/step - loss: 0.4431 - accuracy: 0.7704 - val_loss: 0.4683 - val_accuracy: 0.7987\n",
      "Epoch 35/100\n",
      "20/20 [==============================] - 0s 5ms/step - loss: 0.4429 - accuracy: 0.7752 - val_loss: 0.4679 - val_accuracy: 0.7987\n",
      "Epoch 36/100\n",
      "20/20 [==============================] - 0s 4ms/step - loss: 0.4423 - accuracy: 0.7720 - val_loss: 0.4671 - val_accuracy: 0.7987\n",
      "Epoch 37/100\n",
      "20/20 [==============================] - 0s 6ms/step - loss: 0.4418 - accuracy: 0.7720 - val_loss: 0.4675 - val_accuracy: 0.8052\n",
      "Epoch 38/100\n",
      "20/20 [==============================] - 0s 5ms/step - loss: 0.4408 - accuracy: 0.7769 - val_loss: 0.4679 - val_accuracy: 0.8052\n",
      "Epoch 39/100\n",
      "20/20 [==============================] - 0s 4ms/step - loss: 0.4407 - accuracy: 0.7736 - val_loss: 0.4678 - val_accuracy: 0.7987\n",
      "Epoch 40/100\n",
      "20/20 [==============================] - 0s 5ms/step - loss: 0.4400 - accuracy: 0.7736 - val_loss: 0.4677 - val_accuracy: 0.8052\n",
      "Epoch 41/100\n",
      "20/20 [==============================] - 0s 5ms/step - loss: 0.4397 - accuracy: 0.7769 - val_loss: 0.4674 - val_accuracy: 0.8052\n",
      "Epoch 42/100\n",
      "20/20 [==============================] - 0s 5ms/step - loss: 0.4391 - accuracy: 0.7736 - val_loss: 0.4674 - val_accuracy: 0.8117\n",
      "Epoch 43/100\n",
      "20/20 [==============================] - 0s 4ms/step - loss: 0.4382 - accuracy: 0.7769 - val_loss: 0.4674 - val_accuracy: 0.8117\n",
      "Epoch 44/100\n",
      "20/20 [==============================] - 0s 5ms/step - loss: 0.4381 - accuracy: 0.7736 - val_loss: 0.4682 - val_accuracy: 0.8117\n",
      "Epoch 45/100\n",
      "20/20 [==============================] - 0s 4ms/step - loss: 0.4375 - accuracy: 0.7752 - val_loss: 0.4688 - val_accuracy: 0.8117\n",
      "Epoch 46/100\n",
      "20/20 [==============================] - 0s 5ms/step - loss: 0.4370 - accuracy: 0.7769 - val_loss: 0.4687 - val_accuracy: 0.8052\n",
      "Epoch 47/100\n",
      "20/20 [==============================] - 0s 5ms/step - loss: 0.4361 - accuracy: 0.7801 - val_loss: 0.4683 - val_accuracy: 0.8052\n",
      "Epoch 48/100\n",
      "20/20 [==============================] - 0s 5ms/step - loss: 0.4357 - accuracy: 0.7752 - val_loss: 0.4684 - val_accuracy: 0.8117\n",
      "Epoch 49/100\n",
      "20/20 [==============================] - 0s 4ms/step - loss: 0.4347 - accuracy: 0.7752 - val_loss: 0.4681 - val_accuracy: 0.8117\n",
      "Epoch 50/100\n",
      "20/20 [==============================] - 0s 6ms/step - loss: 0.4351 - accuracy: 0.7785 - val_loss: 0.4685 - val_accuracy: 0.8117\n",
      "Epoch 51/100\n",
      "20/20 [==============================] - 0s 5ms/step - loss: 0.4345 - accuracy: 0.7769 - val_loss: 0.4679 - val_accuracy: 0.8052\n",
      "Epoch 52/100\n",
      "20/20 [==============================] - 0s 4ms/step - loss: 0.4342 - accuracy: 0.7785 - val_loss: 0.4682 - val_accuracy: 0.8117\n",
      "Epoch 53/100\n",
      "20/20 [==============================] - 0s 6ms/step - loss: 0.4334 - accuracy: 0.7801 - val_loss: 0.4674 - val_accuracy: 0.8117\n",
      "Epoch 54/100\n",
      "20/20 [==============================] - 0s 7ms/step - loss: 0.4331 - accuracy: 0.7818 - val_loss: 0.4672 - val_accuracy: 0.8117\n",
      "Epoch 55/100\n",
      "20/20 [==============================] - 0s 6ms/step - loss: 0.4327 - accuracy: 0.7818 - val_loss: 0.4678 - val_accuracy: 0.8117\n",
      "Epoch 56/100\n",
      "20/20 [==============================] - 0s 6ms/step - loss: 0.4323 - accuracy: 0.7818 - val_loss: 0.4676 - val_accuracy: 0.8117\n",
      "Epoch 57/100\n",
      "20/20 [==============================] - 0s 6ms/step - loss: 0.4321 - accuracy: 0.7850 - val_loss: 0.4675 - val_accuracy: 0.8117\n",
      "Epoch 58/100\n",
      "20/20 [==============================] - 0s 7ms/step - loss: 0.4314 - accuracy: 0.7834 - val_loss: 0.4672 - val_accuracy: 0.8117\n",
      "Epoch 59/100\n",
      "20/20 [==============================] - 0s 8ms/step - loss: 0.4311 - accuracy: 0.7834 - val_loss: 0.4676 - val_accuracy: 0.8247\n",
      "Epoch 60/100\n",
      "20/20 [==============================] - 0s 6ms/step - loss: 0.4307 - accuracy: 0.7883 - val_loss: 0.4675 - val_accuracy: 0.8182\n",
      "Epoch 61/100\n",
      "20/20 [==============================] - 0s 6ms/step - loss: 0.4300 - accuracy: 0.7818 - val_loss: 0.4682 - val_accuracy: 0.8117\n",
      "Epoch 62/100\n",
      "20/20 [==============================] - 0s 5ms/step - loss: 0.4299 - accuracy: 0.7883 - val_loss: 0.4668 - val_accuracy: 0.8117\n",
      "Epoch 63/100\n",
      "20/20 [==============================] - 0s 5ms/step - loss: 0.4295 - accuracy: 0.7834 - val_loss: 0.4664 - val_accuracy: 0.8247\n",
      "Epoch 64/100\n",
      "20/20 [==============================] - 0s 8ms/step - loss: 0.4287 - accuracy: 0.7899 - val_loss: 0.4662 - val_accuracy: 0.8117\n"
     ]
    },
    {
     "name": "stdout",
     "output_type": "stream",
     "text": [
      "Epoch 65/100\n",
      "20/20 [==============================] - 0s 10ms/step - loss: 0.4285 - accuracy: 0.7834 - val_loss: 0.4668 - val_accuracy: 0.8247\n",
      "Epoch 66/100\n",
      "20/20 [==============================] - 0s 8ms/step - loss: 0.4282 - accuracy: 0.7883 - val_loss: 0.4673 - val_accuracy: 0.8182\n",
      "Epoch 67/100\n",
      "20/20 [==============================] - 0s 10ms/step - loss: 0.4280 - accuracy: 0.7948 - val_loss: 0.4669 - val_accuracy: 0.8247\n",
      "Epoch 68/100\n",
      "20/20 [==============================] - 0s 5ms/step - loss: 0.4274 - accuracy: 0.7899 - val_loss: 0.4676 - val_accuracy: 0.8247\n",
      "Epoch 69/100\n",
      "20/20 [==============================] - 0s 4ms/step - loss: 0.4276 - accuracy: 0.7964 - val_loss: 0.4674 - val_accuracy: 0.8247\n",
      "Epoch 70/100\n",
      "20/20 [==============================] - 0s 4ms/step - loss: 0.4273 - accuracy: 0.7932 - val_loss: 0.4670 - val_accuracy: 0.8247\n",
      "Epoch 71/100\n",
      "20/20 [==============================] - 0s 4ms/step - loss: 0.4266 - accuracy: 0.7866 - val_loss: 0.4668 - val_accuracy: 0.8247\n",
      "Epoch 72/100\n",
      "20/20 [==============================] - 0s 5ms/step - loss: 0.4266 - accuracy: 0.7866 - val_loss: 0.4670 - val_accuracy: 0.8247\n",
      "Epoch 73/100\n",
      "20/20 [==============================] - 0s 4ms/step - loss: 0.4260 - accuracy: 0.7932 - val_loss: 0.4667 - val_accuracy: 0.8247\n",
      "Epoch 74/100\n",
      "20/20 [==============================] - 0s 4ms/step - loss: 0.4255 - accuracy: 0.7915 - val_loss: 0.4673 - val_accuracy: 0.8312\n",
      "Epoch 75/100\n",
      "20/20 [==============================] - 0s 4ms/step - loss: 0.4254 - accuracy: 0.7932 - val_loss: 0.4676 - val_accuracy: 0.8312\n",
      "Epoch 76/100\n",
      "20/20 [==============================] - 0s 4ms/step - loss: 0.4249 - accuracy: 0.7948 - val_loss: 0.4669 - val_accuracy: 0.8312\n",
      "Epoch 77/100\n",
      "20/20 [==============================] - 0s 4ms/step - loss: 0.4248 - accuracy: 0.7948 - val_loss: 0.4672 - val_accuracy: 0.8312\n",
      "Epoch 78/100\n",
      "20/20 [==============================] - 0s 4ms/step - loss: 0.4248 - accuracy: 0.7915 - val_loss: 0.4668 - val_accuracy: 0.8247\n",
      "Epoch 79/100\n",
      "20/20 [==============================] - 0s 4ms/step - loss: 0.4242 - accuracy: 0.7932 - val_loss: 0.4671 - val_accuracy: 0.8312\n",
      "Epoch 80/100\n",
      "20/20 [==============================] - 0s 5ms/step - loss: 0.4240 - accuracy: 0.7932 - val_loss: 0.4664 - val_accuracy: 0.8182\n",
      "Epoch 81/100\n",
      "20/20 [==============================] - 0s 4ms/step - loss: 0.4236 - accuracy: 0.7948 - val_loss: 0.4667 - val_accuracy: 0.8247\n",
      "Epoch 82/100\n",
      "20/20 [==============================] - 0s 4ms/step - loss: 0.4233 - accuracy: 0.7980 - val_loss: 0.4671 - val_accuracy: 0.8247\n",
      "Epoch 83/100\n",
      "20/20 [==============================] - 0s 4ms/step - loss: 0.4228 - accuracy: 0.7964 - val_loss: 0.4681 - val_accuracy: 0.8247\n",
      "Epoch 84/100\n",
      "20/20 [==============================] - 0s 4ms/step - loss: 0.4224 - accuracy: 0.7964 - val_loss: 0.4673 - val_accuracy: 0.8247\n",
      "Epoch 85/100\n",
      "20/20 [==============================] - 0s 4ms/step - loss: 0.4220 - accuracy: 0.7932 - val_loss: 0.4673 - val_accuracy: 0.8182\n",
      "Epoch 86/100\n",
      "20/20 [==============================] - 0s 4ms/step - loss: 0.4213 - accuracy: 0.7964 - val_loss: 0.4665 - val_accuracy: 0.8247\n",
      "Epoch 87/100\n",
      "20/20 [==============================] - 0s 4ms/step - loss: 0.4216 - accuracy: 0.7964 - val_loss: 0.4668 - val_accuracy: 0.8247\n",
      "Epoch 88/100\n",
      "20/20 [==============================] - 0s 4ms/step - loss: 0.4209 - accuracy: 0.7980 - val_loss: 0.4675 - val_accuracy: 0.8247\n",
      "Epoch 89/100\n",
      "20/20 [==============================] - 0s 4ms/step - loss: 0.4207 - accuracy: 0.7964 - val_loss: 0.4674 - val_accuracy: 0.8247\n",
      "Epoch 90/100\n",
      "20/20 [==============================] - 0s 7ms/step - loss: 0.4202 - accuracy: 0.7964 - val_loss: 0.4674 - val_accuracy: 0.8182\n",
      "Epoch 91/100\n",
      "20/20 [==============================] - 0s 4ms/step - loss: 0.4207 - accuracy: 0.8013 - val_loss: 0.4677 - val_accuracy: 0.8182\n",
      "Epoch 92/100\n",
      "20/20 [==============================] - 0s 4ms/step - loss: 0.4199 - accuracy: 0.8013 - val_loss: 0.4688 - val_accuracy: 0.8182\n",
      "Epoch 93/100\n",
      "20/20 [==============================] - 0s 4ms/step - loss: 0.4196 - accuracy: 0.8013 - val_loss: 0.4689 - val_accuracy: 0.8117\n",
      "Epoch 94/100\n",
      "20/20 [==============================] - 0s 4ms/step - loss: 0.4198 - accuracy: 0.8029 - val_loss: 0.4680 - val_accuracy: 0.8182\n",
      "Epoch 95/100\n",
      "20/20 [==============================] - 0s 4ms/step - loss: 0.4194 - accuracy: 0.8062 - val_loss: 0.4671 - val_accuracy: 0.8182\n",
      "Epoch 96/100\n",
      "20/20 [==============================] - 0s 4ms/step - loss: 0.4187 - accuracy: 0.7997 - val_loss: 0.4670 - val_accuracy: 0.8117\n",
      "Epoch 97/100\n",
      "20/20 [==============================] - 0s 4ms/step - loss: 0.4189 - accuracy: 0.7964 - val_loss: 0.4666 - val_accuracy: 0.8182\n",
      "Epoch 98/100\n",
      "20/20 [==============================] - 0s 4ms/step - loss: 0.4178 - accuracy: 0.8046 - val_loss: 0.4661 - val_accuracy: 0.8182\n",
      "Epoch 99/100\n",
      "20/20 [==============================] - 0s 3ms/step - loss: 0.4182 - accuracy: 0.7980 - val_loss: 0.4665 - val_accuracy: 0.8182\n",
      "Epoch 100/100\n",
      "20/20 [==============================] - 0s 5ms/step - loss: 0.4177 - accuracy: 0.8046 - val_loss: 0.4664 - val_accuracy: 0.8182\n"
     ]
    },
    {
     "data": {
      "text/plain": [
       "<keras.callbacks.History at 0x25b8fbecc70>"
      ]
     },
     "execution_count": 28,
     "metadata": {},
     "output_type": "execute_result"
    }
   ],
   "source": [
    "model.fit(x_train,y_train,batch_size=32,epochs=100,initial_epoch=6,validation_data=(x_test,y_test))"
   ]
  },
  {
   "cell_type": "markdown",
   "metadata": {},
   "source": [
    "# No. of nodes in a layers"
   ]
  },
  {
   "cell_type": "code",
   "execution_count": 29,
   "metadata": {
    "id": "dliNgRvEyAiN"
   },
   "outputs": [],
   "source": [
    "def build_model(hp):\n",
    "    model=Sequential()\n",
    "    # units=hp.Int(\"units\",min_value=8,max_value=128,step=8)\n",
    "    units=hp.Choice(\"units\",[8,128,8])\n",
    "    model.add(Dense(units=units,activation=\"relu\",input_dim=8))\n",
    "    model.add(Dense(1,activation=\"sigmoid\"))\n",
    "    # model.compile(optimizer=\"rmsprop\",loss=\"binary_crossentropy\",metricss=[\"accuracy\"])\n",
    "    model.compile(optimizer=\"rmsprop\",loss=\"binary_crossentropy\",metrics=[\"accuracy\"])\n",
    "    return model"
   ]
  },
  {
   "cell_type": "code",
   "execution_count": 30,
   "metadata": {
    "id": "f83oBVl-yBU1"
   },
   "outputs": [
    {
     "name": "stdout",
     "output_type": "stream",
     "text": [
      "INFO:tensorflow:Reloading Oracle from existing project mydirectoy\\riad\\oracle.json\n",
      "INFO:tensorflow:Reloading Tuner from mydirectoy\\riad\\tuner0.json\n"
     ]
    }
   ],
   "source": [
    "tuner=kt.RandomSearch(build_model,objective=\"val_accuracy\",max_trials=5,directory=\"mydirectoy\",project_name=\"riad\")"
   ]
  },
  {
   "cell_type": "code",
   "execution_count": 31,
   "metadata": {
    "id": "sfKt79bqzpvP"
   },
   "outputs": [
    {
     "name": "stdout",
     "output_type": "stream",
     "text": [
      "INFO:tensorflow:Oracle triggered exit\n"
     ]
    }
   ],
   "source": [
    "tuner.search(x_train,y_train,epochs=5,validation_data=(x_test,y_test))"
   ]
  },
  {
   "cell_type": "code",
   "execution_count": 32,
   "metadata": {
    "id": "15A1EQ9v1_uz"
   },
   "outputs": [
    {
     "data": {
      "text/plain": [
       "{'units': 128}"
      ]
     },
     "execution_count": 32,
     "metadata": {},
     "output_type": "execute_result"
    }
   ],
   "source": [
    "tuner.get_best_hyperparameters()[0].values"
   ]
  },
  {
   "cell_type": "code",
   "execution_count": 33,
   "metadata": {
    "id": "L23QD3Yi2Dq7"
   },
   "outputs": [],
   "source": [
    "model=tuner.get_best_models(num_models=1)[0]"
   ]
  },
  {
   "cell_type": "code",
   "execution_count": 34,
   "metadata": {
    "id": "18u3ZpdG49Z8"
   },
   "outputs": [
    {
     "name": "stdout",
     "output_type": "stream",
     "text": [
      "Epoch 7/100\n",
      "20/20 [==============================] - 1s 13ms/step - loss: 0.4777 - accuracy: 0.7687 - val_loss: 0.4831 - val_accuracy: 0.7857\n",
      "Epoch 8/100\n",
      "20/20 [==============================] - 0s 5ms/step - loss: 0.4685 - accuracy: 0.7801 - val_loss: 0.4781 - val_accuracy: 0.7792\n",
      "Epoch 9/100\n",
      "20/20 [==============================] - 0s 4ms/step - loss: 0.4633 - accuracy: 0.7752 - val_loss: 0.4784 - val_accuracy: 0.7727\n",
      "Epoch 10/100\n",
      "20/20 [==============================] - 0s 5ms/step - loss: 0.4599 - accuracy: 0.7818 - val_loss: 0.4762 - val_accuracy: 0.7662\n",
      "Epoch 11/100\n",
      "20/20 [==============================] - 0s 4ms/step - loss: 0.4564 - accuracy: 0.7818 - val_loss: 0.4765 - val_accuracy: 0.7597\n",
      "Epoch 12/100\n",
      "20/20 [==============================] - 0s 4ms/step - loss: 0.4539 - accuracy: 0.7801 - val_loss: 0.4751 - val_accuracy: 0.7662\n",
      "Epoch 13/100\n",
      "20/20 [==============================] - 0s 4ms/step - loss: 0.4529 - accuracy: 0.7752 - val_loss: 0.4760 - val_accuracy: 0.7597\n",
      "Epoch 14/100\n",
      "20/20 [==============================] - 0s 3ms/step - loss: 0.4505 - accuracy: 0.7850 - val_loss: 0.4756 - val_accuracy: 0.7662\n",
      "Epoch 15/100\n",
      "20/20 [==============================] - 0s 4ms/step - loss: 0.4489 - accuracy: 0.7850 - val_loss: 0.4752 - val_accuracy: 0.7662\n",
      "Epoch 16/100\n",
      "20/20 [==============================] - 0s 6ms/step - loss: 0.4475 - accuracy: 0.7818 - val_loss: 0.4758 - val_accuracy: 0.7662\n",
      "Epoch 17/100\n",
      "20/20 [==============================] - 0s 4ms/step - loss: 0.4462 - accuracy: 0.7834 - val_loss: 0.4753 - val_accuracy: 0.7597\n",
      "Epoch 18/100\n",
      "20/20 [==============================] - 0s 4ms/step - loss: 0.4452 - accuracy: 0.7818 - val_loss: 0.4767 - val_accuracy: 0.7662\n",
      "Epoch 19/100\n",
      "20/20 [==============================] - 0s 4ms/step - loss: 0.4433 - accuracy: 0.7850 - val_loss: 0.4755 - val_accuracy: 0.7662\n",
      "Epoch 20/100\n",
      "20/20 [==============================] - 0s 4ms/step - loss: 0.4430 - accuracy: 0.7834 - val_loss: 0.4726 - val_accuracy: 0.7922\n",
      "Epoch 21/100\n",
      "20/20 [==============================] - 0s 4ms/step - loss: 0.4415 - accuracy: 0.7834 - val_loss: 0.4718 - val_accuracy: 0.7792\n",
      "Epoch 22/100\n",
      "20/20 [==============================] - 0s 4ms/step - loss: 0.4403 - accuracy: 0.7866 - val_loss: 0.4710 - val_accuracy: 0.7922\n",
      "Epoch 23/100\n",
      "20/20 [==============================] - 0s 4ms/step - loss: 0.4398 - accuracy: 0.7818 - val_loss: 0.4730 - val_accuracy: 0.7727\n",
      "Epoch 24/100\n",
      "20/20 [==============================] - 0s 4ms/step - loss: 0.4391 - accuracy: 0.7801 - val_loss: 0.4707 - val_accuracy: 0.7857\n",
      "Epoch 25/100\n",
      "20/20 [==============================] - 0s 4ms/step - loss: 0.4377 - accuracy: 0.7850 - val_loss: 0.4720 - val_accuracy: 0.7857\n",
      "Epoch 26/100\n",
      "20/20 [==============================] - 0s 4ms/step - loss: 0.4375 - accuracy: 0.7883 - val_loss: 0.4707 - val_accuracy: 0.7922\n",
      "Epoch 27/100\n",
      "20/20 [==============================] - 0s 4ms/step - loss: 0.4355 - accuracy: 0.7850 - val_loss: 0.4709 - val_accuracy: 0.7792\n",
      "Epoch 28/100\n",
      "20/20 [==============================] - 0s 5ms/step - loss: 0.4354 - accuracy: 0.7883 - val_loss: 0.4697 - val_accuracy: 0.7922\n",
      "Epoch 29/100\n",
      "20/20 [==============================] - 0s 5ms/step - loss: 0.4346 - accuracy: 0.7883 - val_loss: 0.4681 - val_accuracy: 0.7857\n",
      "Epoch 30/100\n",
      "20/20 [==============================] - 0s 4ms/step - loss: 0.4337 - accuracy: 0.7866 - val_loss: 0.4708 - val_accuracy: 0.7857\n",
      "Epoch 31/100\n",
      "20/20 [==============================] - 0s 4ms/step - loss: 0.4326 - accuracy: 0.7915 - val_loss: 0.4696 - val_accuracy: 0.7792\n",
      "Epoch 32/100\n",
      "20/20 [==============================] - 0s 4ms/step - loss: 0.4322 - accuracy: 0.7866 - val_loss: 0.4683 - val_accuracy: 0.7792\n",
      "Epoch 33/100\n",
      "20/20 [==============================] - 0s 5ms/step - loss: 0.4314 - accuracy: 0.7899 - val_loss: 0.4674 - val_accuracy: 0.7857\n",
      "Epoch 34/100\n",
      "20/20 [==============================] - 0s 4ms/step - loss: 0.4307 - accuracy: 0.7850 - val_loss: 0.4677 - val_accuracy: 0.7792\n",
      "Epoch 35/100\n",
      "20/20 [==============================] - 0s 4ms/step - loss: 0.4298 - accuracy: 0.7866 - val_loss: 0.4666 - val_accuracy: 0.7922\n",
      "Epoch 36/100\n",
      "20/20 [==============================] - 0s 4ms/step - loss: 0.4283 - accuracy: 0.7915 - val_loss: 0.4657 - val_accuracy: 0.7922\n",
      "Epoch 37/100\n",
      "20/20 [==============================] - 0s 4ms/step - loss: 0.4284 - accuracy: 0.7899 - val_loss: 0.4657 - val_accuracy: 0.7922\n",
      "Epoch 38/100\n",
      "20/20 [==============================] - 0s 4ms/step - loss: 0.4268 - accuracy: 0.7899 - val_loss: 0.4663 - val_accuracy: 0.7857\n",
      "Epoch 39/100\n",
      "20/20 [==============================] - 0s 4ms/step - loss: 0.4262 - accuracy: 0.7866 - val_loss: 0.4684 - val_accuracy: 0.7922\n",
      "Epoch 40/100\n",
      "20/20 [==============================] - 0s 4ms/step - loss: 0.4261 - accuracy: 0.7932 - val_loss: 0.4680 - val_accuracy: 0.7922\n",
      "Epoch 41/100\n",
      "20/20 [==============================] - 0s 4ms/step - loss: 0.4247 - accuracy: 0.7932 - val_loss: 0.4658 - val_accuracy: 0.7792\n",
      "Epoch 42/100\n",
      "20/20 [==============================] - 0s 4ms/step - loss: 0.4236 - accuracy: 0.7997 - val_loss: 0.4649 - val_accuracy: 0.7857\n",
      "Epoch 43/100\n",
      "20/20 [==============================] - 0s 4ms/step - loss: 0.4232 - accuracy: 0.7932 - val_loss: 0.4661 - val_accuracy: 0.7857\n",
      "Epoch 44/100\n",
      "20/20 [==============================] - 0s 4ms/step - loss: 0.4231 - accuracy: 0.7964 - val_loss: 0.4648 - val_accuracy: 0.7857\n",
      "Epoch 45/100\n",
      "20/20 [==============================] - 0s 4ms/step - loss: 0.4217 - accuracy: 0.8013 - val_loss: 0.4633 - val_accuracy: 0.7857\n",
      "Epoch 46/100\n",
      "20/20 [==============================] - 0s 5ms/step - loss: 0.4215 - accuracy: 0.7980 - val_loss: 0.4642 - val_accuracy: 0.7922\n",
      "Epoch 47/100\n",
      "20/20 [==============================] - 0s 4ms/step - loss: 0.4211 - accuracy: 0.7932 - val_loss: 0.4638 - val_accuracy: 0.7987\n",
      "Epoch 48/100\n",
      "20/20 [==============================] - 0s 3ms/step - loss: 0.4202 - accuracy: 0.7915 - val_loss: 0.4615 - val_accuracy: 0.7857\n",
      "Epoch 49/100\n",
      "20/20 [==============================] - 0s 4ms/step - loss: 0.4197 - accuracy: 0.7948 - val_loss: 0.4618 - val_accuracy: 0.7922\n",
      "Epoch 50/100\n",
      "20/20 [==============================] - 0s 4ms/step - loss: 0.4185 - accuracy: 0.7948 - val_loss: 0.4622 - val_accuracy: 0.7987\n",
      "Epoch 51/100\n",
      "20/20 [==============================] - 0s 4ms/step - loss: 0.4176 - accuracy: 0.7997 - val_loss: 0.4604 - val_accuracy: 0.7922\n",
      "Epoch 52/100\n",
      "20/20 [==============================] - 0s 4ms/step - loss: 0.4174 - accuracy: 0.7964 - val_loss: 0.4644 - val_accuracy: 0.7922\n",
      "Epoch 53/100\n",
      "20/20 [==============================] - 0s 4ms/step - loss: 0.4169 - accuracy: 0.8013 - val_loss: 0.4631 - val_accuracy: 0.8117\n",
      "Epoch 54/100\n",
      "20/20 [==============================] - 0s 4ms/step - loss: 0.4164 - accuracy: 0.7980 - val_loss: 0.4623 - val_accuracy: 0.7987\n",
      "Epoch 55/100\n",
      "20/20 [==============================] - 0s 4ms/step - loss: 0.4153 - accuracy: 0.7980 - val_loss: 0.4628 - val_accuracy: 0.7987\n",
      "Epoch 56/100\n",
      "20/20 [==============================] - 0s 4ms/step - loss: 0.4148 - accuracy: 0.8046 - val_loss: 0.4629 - val_accuracy: 0.7922\n",
      "Epoch 57/100\n",
      "20/20 [==============================] - 0s 4ms/step - loss: 0.4138 - accuracy: 0.7964 - val_loss: 0.4618 - val_accuracy: 0.7987\n",
      "Epoch 58/100\n",
      "20/20 [==============================] - 0s 5ms/step - loss: 0.4132 - accuracy: 0.7997 - val_loss: 0.4603 - val_accuracy: 0.7987\n",
      "Epoch 59/100\n",
      "20/20 [==============================] - 0s 5ms/step - loss: 0.4127 - accuracy: 0.8029 - val_loss: 0.4582 - val_accuracy: 0.7987\n",
      "Epoch 60/100\n",
      "20/20 [==============================] - 0s 4ms/step - loss: 0.4129 - accuracy: 0.8029 - val_loss: 0.4592 - val_accuracy: 0.7922\n",
      "Epoch 61/100\n",
      "20/20 [==============================] - 0s 3ms/step - loss: 0.4115 - accuracy: 0.8013 - val_loss: 0.4612 - val_accuracy: 0.7857\n",
      "Epoch 62/100\n",
      "20/20 [==============================] - 0s 4ms/step - loss: 0.4119 - accuracy: 0.8013 - val_loss: 0.4623 - val_accuracy: 0.7857\n",
      "Epoch 63/100\n",
      "20/20 [==============================] - 0s 3ms/step - loss: 0.4115 - accuracy: 0.8046 - val_loss: 0.4602 - val_accuracy: 0.7922\n",
      "Epoch 64/100\n",
      "20/20 [==============================] - 0s 4ms/step - loss: 0.4097 - accuracy: 0.8078 - val_loss: 0.4629 - val_accuracy: 0.7922\n"
     ]
    },
    {
     "name": "stdout",
     "output_type": "stream",
     "text": [
      "Epoch 65/100\n",
      "20/20 [==============================] - 0s 4ms/step - loss: 0.4096 - accuracy: 0.8062 - val_loss: 0.4632 - val_accuracy: 0.7987\n",
      "Epoch 66/100\n",
      "20/20 [==============================] - 0s 4ms/step - loss: 0.4087 - accuracy: 0.8094 - val_loss: 0.4655 - val_accuracy: 0.7987\n",
      "Epoch 67/100\n",
      "20/20 [==============================] - 0s 4ms/step - loss: 0.4082 - accuracy: 0.8078 - val_loss: 0.4645 - val_accuracy: 0.7922\n",
      "Epoch 68/100\n",
      "20/20 [==============================] - 0s 4ms/step - loss: 0.4074 - accuracy: 0.8062 - val_loss: 0.4615 - val_accuracy: 0.7922\n",
      "Epoch 69/100\n",
      "20/20 [==============================] - 0s 3ms/step - loss: 0.4068 - accuracy: 0.8111 - val_loss: 0.4646 - val_accuracy: 0.7922\n",
      "Epoch 70/100\n",
      "20/20 [==============================] - 0s 3ms/step - loss: 0.4068 - accuracy: 0.8094 - val_loss: 0.4648 - val_accuracy: 0.7987\n",
      "Epoch 71/100\n",
      "20/20 [==============================] - 0s 4ms/step - loss: 0.4058 - accuracy: 0.8127 - val_loss: 0.4632 - val_accuracy: 0.7922\n",
      "Epoch 72/100\n",
      "20/20 [==============================] - 0s 3ms/step - loss: 0.4059 - accuracy: 0.8127 - val_loss: 0.4613 - val_accuracy: 0.7922\n",
      "Epoch 73/100\n",
      "20/20 [==============================] - 0s 5ms/step - loss: 0.4050 - accuracy: 0.8111 - val_loss: 0.4607 - val_accuracy: 0.7922\n",
      "Epoch 74/100\n",
      "20/20 [==============================] - 0s 3ms/step - loss: 0.4047 - accuracy: 0.8143 - val_loss: 0.4600 - val_accuracy: 0.7987\n",
      "Epoch 75/100\n",
      "20/20 [==============================] - 0s 4ms/step - loss: 0.4032 - accuracy: 0.8094 - val_loss: 0.4605 - val_accuracy: 0.7987\n",
      "Epoch 76/100\n",
      "20/20 [==============================] - 0s 3ms/step - loss: 0.4033 - accuracy: 0.8094 - val_loss: 0.4630 - val_accuracy: 0.7987\n",
      "Epoch 77/100\n",
      "20/20 [==============================] - 0s 3ms/step - loss: 0.4036 - accuracy: 0.8127 - val_loss: 0.4641 - val_accuracy: 0.7922\n",
      "Epoch 78/100\n",
      "20/20 [==============================] - 0s 4ms/step - loss: 0.4022 - accuracy: 0.8208 - val_loss: 0.4644 - val_accuracy: 0.7922\n",
      "Epoch 79/100\n",
      "20/20 [==============================] - 0s 4ms/step - loss: 0.4018 - accuracy: 0.8176 - val_loss: 0.4605 - val_accuracy: 0.7987\n",
      "Epoch 80/100\n",
      "20/20 [==============================] - 0s 4ms/step - loss: 0.4017 - accuracy: 0.8176 - val_loss: 0.4609 - val_accuracy: 0.8052\n",
      "Epoch 81/100\n",
      "20/20 [==============================] - 0s 4ms/step - loss: 0.4010 - accuracy: 0.8127 - val_loss: 0.4609 - val_accuracy: 0.7922\n",
      "Epoch 82/100\n",
      "20/20 [==============================] - 0s 4ms/step - loss: 0.4000 - accuracy: 0.8208 - val_loss: 0.4608 - val_accuracy: 0.7987\n",
      "Epoch 83/100\n",
      "20/20 [==============================] - 0s 3ms/step - loss: 0.3998 - accuracy: 0.8257 - val_loss: 0.4610 - val_accuracy: 0.7922\n",
      "Epoch 84/100\n",
      "20/20 [==============================] - 0s 4ms/step - loss: 0.3999 - accuracy: 0.8176 - val_loss: 0.4610 - val_accuracy: 0.7987\n",
      "Epoch 85/100\n",
      "20/20 [==============================] - 0s 4ms/step - loss: 0.3980 - accuracy: 0.8208 - val_loss: 0.4615 - val_accuracy: 0.8117\n",
      "Epoch 86/100\n",
      "20/20 [==============================] - 0s 4ms/step - loss: 0.3982 - accuracy: 0.8176 - val_loss: 0.4615 - val_accuracy: 0.7987\n",
      "Epoch 87/100\n",
      "20/20 [==============================] - 0s 4ms/step - loss: 0.3983 - accuracy: 0.8257 - val_loss: 0.4609 - val_accuracy: 0.7987\n",
      "Epoch 88/100\n",
      "20/20 [==============================] - 0s 4ms/step - loss: 0.3972 - accuracy: 0.8208 - val_loss: 0.4578 - val_accuracy: 0.7987\n",
      "Epoch 89/100\n",
      "20/20 [==============================] - 0s 3ms/step - loss: 0.3973 - accuracy: 0.8176 - val_loss: 0.4623 - val_accuracy: 0.7987\n",
      "Epoch 90/100\n",
      "20/20 [==============================] - 0s 3ms/step - loss: 0.3966 - accuracy: 0.8225 - val_loss: 0.4634 - val_accuracy: 0.8052\n",
      "Epoch 91/100\n",
      "20/20 [==============================] - 0s 3ms/step - loss: 0.3954 - accuracy: 0.8290 - val_loss: 0.4636 - val_accuracy: 0.8117\n",
      "Epoch 92/100\n",
      "20/20 [==============================] - 0s 4ms/step - loss: 0.3955 - accuracy: 0.8274 - val_loss: 0.4631 - val_accuracy: 0.7987\n",
      "Epoch 93/100\n",
      "20/20 [==============================] - 0s 3ms/step - loss: 0.3954 - accuracy: 0.8192 - val_loss: 0.4620 - val_accuracy: 0.7922\n",
      "Epoch 94/100\n",
      "20/20 [==============================] - 0s 3ms/step - loss: 0.3948 - accuracy: 0.8192 - val_loss: 0.4587 - val_accuracy: 0.7922\n",
      "Epoch 95/100\n",
      "20/20 [==============================] - 0s 3ms/step - loss: 0.3939 - accuracy: 0.8176 - val_loss: 0.4591 - val_accuracy: 0.7922\n",
      "Epoch 96/100\n",
      "20/20 [==============================] - 0s 3ms/step - loss: 0.3944 - accuracy: 0.8176 - val_loss: 0.4610 - val_accuracy: 0.8117\n",
      "Epoch 97/100\n",
      "20/20 [==============================] - 0s 4ms/step - loss: 0.3932 - accuracy: 0.8225 - val_loss: 0.4593 - val_accuracy: 0.7987\n",
      "Epoch 98/100\n",
      "20/20 [==============================] - 0s 3ms/step - loss: 0.3926 - accuracy: 0.8257 - val_loss: 0.4632 - val_accuracy: 0.7922\n",
      "Epoch 99/100\n",
      "20/20 [==============================] - 0s 3ms/step - loss: 0.3918 - accuracy: 0.8241 - val_loss: 0.4630 - val_accuracy: 0.7987\n",
      "Epoch 100/100\n",
      "20/20 [==============================] - 0s 4ms/step - loss: 0.3912 - accuracy: 0.8241 - val_loss: 0.4586 - val_accuracy: 0.7987\n"
     ]
    },
    {
     "data": {
      "text/plain": [
       "<keras.callbacks.History at 0x25b9330ce20>"
      ]
     },
     "execution_count": 34,
     "metadata": {},
     "output_type": "execute_result"
    }
   ],
   "source": [
    "from keras.engine.training import optimizers\n",
    "model.fit(x_train,y_train,epochs=100,batch_size=32,initial_epoch=6,validation_data=(x_test,y_test))"
   ]
  },
  {
   "cell_type": "markdown",
   "metadata": {},
   "source": [
    "# How to sleect no.of layer"
   ]
  },
  {
   "cell_type": "code",
   "execution_count": 35,
   "metadata": {
    "id": "iAl_X78u5Tzg"
   },
   "outputs": [],
   "source": [
    "def build_model(hp):\n",
    "    model=Sequential()\n",
    "    model.add(Dense(72,activation=\"relu\",input_dim=8))\n",
    "    for i in range(hp.Int(\"num_layers\",min_value=1,max_value=10)):\n",
    "        model.add(Dense(72,activation=\"relu\"))\n",
    "    model.add(Dense(1,activation=\"sigmoid\"))\n",
    "    model.compile(optimizer=\"rmsprop\",loss=\"binary_crossentropy\",metrics=[\"accuracy\"])\n",
    "    return model\n"
   ]
  },
  {
   "cell_type": "code",
   "execution_count": 36,
   "metadata": {
    "id": "25cxFIEL77BD"
   },
   "outputs": [
    {
     "name": "stdout",
     "output_type": "stream",
     "text": [
      "INFO:tensorflow:Reloading Oracle from existing project mydir\\layer\\oracle.json\n",
      "INFO:tensorflow:Reloading Tuner from mydir\\layer\\tuner0.json\n"
     ]
    }
   ],
   "source": [
    "tuner=kt.RandomSearch(build_model,objective=\"val_accuracy\",max_trials=5,directory=\"mydir\",project_name=\"layer\")"
   ]
  },
  {
   "cell_type": "code",
   "execution_count": 37,
   "metadata": {
    "id": "TmAfGhGB8_ty"
   },
   "outputs": [
    {
     "name": "stdout",
     "output_type": "stream",
     "text": [
      "INFO:tensorflow:Oracle triggered exit\n"
     ]
    }
   ],
   "source": [
    "tuner.search(x_train,y_train,epochs=5,validation_data=(x_test,y_test))"
   ]
  },
  {
   "cell_type": "code",
   "execution_count": 38,
   "metadata": {
    "id": "eFwlcihX9ej9"
   },
   "outputs": [
    {
     "data": {
      "text/plain": [
       "{'num_layers': 6}"
      ]
     },
     "execution_count": 38,
     "metadata": {},
     "output_type": "execute_result"
    }
   ],
   "source": [
    "tuner.get_best_hyperparameters()[0].values"
   ]
  },
  {
   "cell_type": "code",
   "execution_count": 39,
   "metadata": {
    "id": "7xXwsqkK9maV"
   },
   "outputs": [],
   "source": [
    "model=tuner.get_best_models(num_models=1)[0]"
   ]
  },
  {
   "cell_type": "code",
   "execution_count": 40,
   "metadata": {
    "id": "YQG0u8Oe92ln"
   },
   "outputs": [
    {
     "name": "stdout",
     "output_type": "stream",
     "text": [
      "Epoch 7/100\n",
      "20/20 [==============================] - 2s 16ms/step - loss: 0.4253 - accuracy: 0.7964 - val_loss: 0.4566 - val_accuracy: 0.7987\n",
      "Epoch 8/100\n",
      "20/20 [==============================] - 0s 5ms/step - loss: 0.4162 - accuracy: 0.8078 - val_loss: 0.4747 - val_accuracy: 0.7922\n",
      "Epoch 9/100\n",
      "20/20 [==============================] - 0s 4ms/step - loss: 0.4024 - accuracy: 0.8029 - val_loss: 0.5103 - val_accuracy: 0.7792\n",
      "Epoch 10/100\n",
      "20/20 [==============================] - 0s 5ms/step - loss: 0.3916 - accuracy: 0.8208 - val_loss: 0.4480 - val_accuracy: 0.8052\n",
      "Epoch 11/100\n",
      "20/20 [==============================] - 0s 5ms/step - loss: 0.3767 - accuracy: 0.8290 - val_loss: 0.4984 - val_accuracy: 0.7403\n",
      "Epoch 12/100\n",
      "20/20 [==============================] - 0s 5ms/step - loss: 0.3731 - accuracy: 0.8322 - val_loss: 0.5067 - val_accuracy: 0.7727\n",
      "Epoch 13/100\n",
      "20/20 [==============================] - 0s 5ms/step - loss: 0.3570 - accuracy: 0.8502 - val_loss: 0.4994 - val_accuracy: 0.7922\n",
      "Epoch 14/100\n",
      "20/20 [==============================] - 0s 6ms/step - loss: 0.3567 - accuracy: 0.8453 - val_loss: 0.5571 - val_accuracy: 0.7532\n",
      "Epoch 15/100\n",
      "20/20 [==============================] - 0s 4ms/step - loss: 0.3368 - accuracy: 0.8599 - val_loss: 0.5655 - val_accuracy: 0.7727\n",
      "Epoch 16/100\n",
      "20/20 [==============================] - 0s 5ms/step - loss: 0.3237 - accuracy: 0.8632 - val_loss: 0.5399 - val_accuracy: 0.7662\n",
      "Epoch 17/100\n",
      "20/20 [==============================] - 0s 5ms/step - loss: 0.3143 - accuracy: 0.8599 - val_loss: 0.5388 - val_accuracy: 0.7532\n",
      "Epoch 18/100\n",
      "20/20 [==============================] - 0s 5ms/step - loss: 0.3002 - accuracy: 0.8795 - val_loss: 0.5614 - val_accuracy: 0.7922\n",
      "Epoch 19/100\n",
      "20/20 [==============================] - 0s 5ms/step - loss: 0.2786 - accuracy: 0.8909 - val_loss: 0.5727 - val_accuracy: 0.7857\n",
      "Epoch 20/100\n",
      "20/20 [==============================] - 0s 4ms/step - loss: 0.2703 - accuracy: 0.9023 - val_loss: 0.5743 - val_accuracy: 0.7662\n",
      "Epoch 21/100\n",
      "20/20 [==============================] - 0s 5ms/step - loss: 0.2541 - accuracy: 0.8974 - val_loss: 0.6202 - val_accuracy: 0.7532\n",
      "Epoch 22/100\n",
      "20/20 [==============================] - 0s 5ms/step - loss: 0.2454 - accuracy: 0.9007 - val_loss: 0.6615 - val_accuracy: 0.7662\n",
      "Epoch 23/100\n",
      "20/20 [==============================] - 0s 5ms/step - loss: 0.2418 - accuracy: 0.9023 - val_loss: 0.6995 - val_accuracy: 0.7403\n",
      "Epoch 24/100\n",
      "20/20 [==============================] - 0s 4ms/step - loss: 0.2046 - accuracy: 0.9267 - val_loss: 1.0076 - val_accuracy: 0.6558\n",
      "Epoch 25/100\n",
      "20/20 [==============================] - 0s 5ms/step - loss: 0.2154 - accuracy: 0.9121 - val_loss: 0.7526 - val_accuracy: 0.7532\n",
      "Epoch 26/100\n",
      "20/20 [==============================] - 0s 5ms/step - loss: 0.2066 - accuracy: 0.9267 - val_loss: 0.8203 - val_accuracy: 0.7338\n",
      "Epoch 27/100\n",
      "20/20 [==============================] - 0s 4ms/step - loss: 0.1984 - accuracy: 0.9283 - val_loss: 0.7441 - val_accuracy: 0.7597\n",
      "Epoch 28/100\n",
      "20/20 [==============================] - 0s 5ms/step - loss: 0.1573 - accuracy: 0.9479 - val_loss: 0.8630 - val_accuracy: 0.7338\n",
      "Epoch 29/100\n",
      "20/20 [==============================] - 0s 5ms/step - loss: 0.1803 - accuracy: 0.9349 - val_loss: 0.8471 - val_accuracy: 0.7273\n",
      "Epoch 30/100\n",
      "20/20 [==============================] - 0s 6ms/step - loss: 0.1859 - accuracy: 0.9316 - val_loss: 0.7974 - val_accuracy: 0.7468\n",
      "Epoch 31/100\n",
      "20/20 [==============================] - 0s 6ms/step - loss: 0.1387 - accuracy: 0.9544 - val_loss: 0.8934 - val_accuracy: 0.7727\n",
      "Epoch 32/100\n",
      "20/20 [==============================] - 0s 6ms/step - loss: 0.1666 - accuracy: 0.9283 - val_loss: 1.3521 - val_accuracy: 0.7338\n",
      "Epoch 33/100\n",
      "20/20 [==============================] - 0s 6ms/step - loss: 0.1450 - accuracy: 0.9495 - val_loss: 1.0323 - val_accuracy: 0.7273\n",
      "Epoch 34/100\n",
      "20/20 [==============================] - 0s 6ms/step - loss: 0.1491 - accuracy: 0.9381 - val_loss: 0.9073 - val_accuracy: 0.7662\n",
      "Epoch 35/100\n",
      "20/20 [==============================] - 0s 6ms/step - loss: 0.1134 - accuracy: 0.9609 - val_loss: 1.1817 - val_accuracy: 0.7078\n",
      "Epoch 36/100\n",
      "20/20 [==============================] - 0s 6ms/step - loss: 0.1118 - accuracy: 0.9560 - val_loss: 1.2218 - val_accuracy: 0.7208\n",
      "Epoch 37/100\n",
      "20/20 [==============================] - 0s 6ms/step - loss: 0.1467 - accuracy: 0.9414 - val_loss: 1.1530 - val_accuracy: 0.7338\n",
      "Epoch 38/100\n",
      "20/20 [==============================] - 0s 6ms/step - loss: 0.0738 - accuracy: 0.9723 - val_loss: 1.4351 - val_accuracy: 0.7403\n",
      "Epoch 39/100\n",
      "20/20 [==============================] - 0s 6ms/step - loss: 0.1169 - accuracy: 0.9544 - val_loss: 1.4568 - val_accuracy: 0.7532\n",
      "Epoch 40/100\n",
      "20/20 [==============================] - 0s 6ms/step - loss: 0.0918 - accuracy: 0.9609 - val_loss: 1.4822 - val_accuracy: 0.6948\n",
      "Epoch 41/100\n",
      "20/20 [==============================] - 0s 5ms/step - loss: 0.1227 - accuracy: 0.9593 - val_loss: 1.3989 - val_accuracy: 0.7273\n",
      "Epoch 42/100\n",
      "20/20 [==============================] - 0s 6ms/step - loss: 0.0669 - accuracy: 0.9772 - val_loss: 1.6010 - val_accuracy: 0.7013\n",
      "Epoch 43/100\n",
      "20/20 [==============================] - 0s 4ms/step - loss: 0.0972 - accuracy: 0.9674 - val_loss: 1.6513 - val_accuracy: 0.6818\n",
      "Epoch 44/100\n",
      "20/20 [==============================] - 0s 4ms/step - loss: 0.0860 - accuracy: 0.9674 - val_loss: 1.7863 - val_accuracy: 0.7078\n",
      "Epoch 45/100\n",
      "20/20 [==============================] - 0s 4ms/step - loss: 0.0920 - accuracy: 0.9674 - val_loss: 1.6149 - val_accuracy: 0.6753\n",
      "Epoch 46/100\n",
      "20/20 [==============================] - 0s 4ms/step - loss: 0.0474 - accuracy: 0.9902 - val_loss: 1.6964 - val_accuracy: 0.7078\n",
      "Epoch 47/100\n",
      "20/20 [==============================] - 0s 4ms/step - loss: 0.0965 - accuracy: 0.9609 - val_loss: 1.6481 - val_accuracy: 0.7013\n",
      "Epoch 48/100\n",
      "20/20 [==============================] - 0s 5ms/step - loss: 0.0366 - accuracy: 0.9821 - val_loss: 1.8159 - val_accuracy: 0.7208\n",
      "Epoch 49/100\n",
      "20/20 [==============================] - 0s 6ms/step - loss: 0.0782 - accuracy: 0.9674 - val_loss: 1.7953 - val_accuracy: 0.7273\n",
      "Epoch 50/100\n",
      "20/20 [==============================] - 0s 5ms/step - loss: 0.0571 - accuracy: 0.9821 - val_loss: 1.8565 - val_accuracy: 0.7143\n",
      "Epoch 51/100\n",
      "20/20 [==============================] - 0s 4ms/step - loss: 0.0371 - accuracy: 0.9886 - val_loss: 2.1678 - val_accuracy: 0.6883\n",
      "Epoch 52/100\n",
      "20/20 [==============================] - 0s 4ms/step - loss: 0.1302 - accuracy: 0.9544 - val_loss: 1.7920 - val_accuracy: 0.7208\n",
      "Epoch 53/100\n",
      "20/20 [==============================] - 0s 6ms/step - loss: 0.0466 - accuracy: 0.9870 - val_loss: 1.9371 - val_accuracy: 0.7208\n",
      "Epoch 54/100\n",
      "20/20 [==============================] - 0s 6ms/step - loss: 0.0536 - accuracy: 0.9837 - val_loss: 2.1192 - val_accuracy: 0.7013\n",
      "Epoch 55/100\n",
      "20/20 [==============================] - 0s 5ms/step - loss: 0.0590 - accuracy: 0.9788 - val_loss: 1.8025 - val_accuracy: 0.7273\n",
      "Epoch 56/100\n",
      "20/20 [==============================] - 0s 4ms/step - loss: 0.0470 - accuracy: 0.9821 - val_loss: 1.9088 - val_accuracy: 0.7013\n",
      "Epoch 57/100\n",
      "20/20 [==============================] - 0s 4ms/step - loss: 0.0432 - accuracy: 0.9853 - val_loss: 1.8848 - val_accuracy: 0.7338\n",
      "Epoch 58/100\n",
      "20/20 [==============================] - 0s 4ms/step - loss: 0.0513 - accuracy: 0.9805 - val_loss: 1.7507 - val_accuracy: 0.7078\n",
      "Epoch 59/100\n",
      "20/20 [==============================] - 0s 4ms/step - loss: 0.0532 - accuracy: 0.9853 - val_loss: 2.1434 - val_accuracy: 0.7403\n",
      "Epoch 60/100\n",
      "20/20 [==============================] - 0s 4ms/step - loss: 0.0509 - accuracy: 0.9788 - val_loss: 1.9923 - val_accuracy: 0.6883\n",
      "Epoch 61/100\n",
      "20/20 [==============================] - 0s 4ms/step - loss: 0.0350 - accuracy: 0.9853 - val_loss: 1.9631 - val_accuracy: 0.6948\n",
      "Epoch 62/100\n",
      "20/20 [==============================] - 0s 4ms/step - loss: 0.1193 - accuracy: 0.9609 - val_loss: 1.9747 - val_accuracy: 0.7403\n",
      "Epoch 63/100\n",
      "20/20 [==============================] - 0s 4ms/step - loss: 0.0248 - accuracy: 0.9919 - val_loss: 1.9906 - val_accuracy: 0.7403\n",
      "Epoch 64/100\n",
      "20/20 [==============================] - 0s 4ms/step - loss: 0.0204 - accuracy: 0.9951 - val_loss: 2.0082 - val_accuracy: 0.7208\n"
     ]
    },
    {
     "name": "stdout",
     "output_type": "stream",
     "text": [
      "Epoch 65/100\n",
      "20/20 [==============================] - 0s 4ms/step - loss: 0.0771 - accuracy: 0.9739 - val_loss: 1.8138 - val_accuracy: 0.7338\n",
      "Epoch 66/100\n",
      "20/20 [==============================] - 0s 4ms/step - loss: 0.0326 - accuracy: 0.9902 - val_loss: 2.4959 - val_accuracy: 0.6883\n",
      "Epoch 67/100\n",
      "20/20 [==============================] - 0s 4ms/step - loss: 0.0572 - accuracy: 0.9805 - val_loss: 1.9139 - val_accuracy: 0.7468\n",
      "Epoch 68/100\n",
      "20/20 [==============================] - 0s 4ms/step - loss: 0.0130 - accuracy: 0.9967 - val_loss: 2.1869 - val_accuracy: 0.7338\n",
      "Epoch 69/100\n",
      "20/20 [==============================] - 0s 5ms/step - loss: 0.0340 - accuracy: 0.9870 - val_loss: 2.3649 - val_accuracy: 0.6494\n",
      "Epoch 70/100\n",
      "20/20 [==============================] - 0s 4ms/step - loss: 0.0319 - accuracy: 0.9886 - val_loss: 2.3935 - val_accuracy: 0.7078\n",
      "Epoch 71/100\n",
      "20/20 [==============================] - 0s 4ms/step - loss: 0.0926 - accuracy: 0.9805 - val_loss: 2.0810 - val_accuracy: 0.7143\n",
      "Epoch 72/100\n",
      "20/20 [==============================] - 0s 4ms/step - loss: 0.0265 - accuracy: 0.9919 - val_loss: 2.4812 - val_accuracy: 0.7078\n",
      "Epoch 73/100\n",
      "20/20 [==============================] - 0s 4ms/step - loss: 0.0847 - accuracy: 0.9870 - val_loss: 2.0673 - val_accuracy: 0.6948\n",
      "Epoch 74/100\n",
      "20/20 [==============================] - 0s 5ms/step - loss: 0.0107 - accuracy: 0.9984 - val_loss: 2.3483 - val_accuracy: 0.7143\n",
      "Epoch 75/100\n",
      "20/20 [==============================] - 0s 4ms/step - loss: 0.0610 - accuracy: 0.9805 - val_loss: 2.1808 - val_accuracy: 0.6948\n",
      "Epoch 76/100\n",
      "20/20 [==============================] - 0s 4ms/step - loss: 0.0231 - accuracy: 0.9902 - val_loss: 2.3696 - val_accuracy: 0.7078\n",
      "Epoch 77/100\n",
      "20/20 [==============================] - 0s 5ms/step - loss: 0.0201 - accuracy: 0.9935 - val_loss: 2.3299 - val_accuracy: 0.7078\n",
      "Epoch 78/100\n",
      "20/20 [==============================] - 0s 4ms/step - loss: 0.0363 - accuracy: 0.9919 - val_loss: 2.4937 - val_accuracy: 0.6948\n",
      "Epoch 79/100\n",
      "20/20 [==============================] - 0s 4ms/step - loss: 0.0514 - accuracy: 0.9772 - val_loss: 2.5482 - val_accuracy: 0.6623\n",
      "Epoch 80/100\n",
      "20/20 [==============================] - 0s 4ms/step - loss: 0.0426 - accuracy: 0.9837 - val_loss: 2.2752 - val_accuracy: 0.6818\n",
      "Epoch 81/100\n",
      "20/20 [==============================] - 0s 5ms/step - loss: 0.0059 - accuracy: 0.9984 - val_loss: 2.4819 - val_accuracy: 0.7078\n",
      "Epoch 82/100\n",
      "20/20 [==============================] - 0s 4ms/step - loss: 0.0035 - accuracy: 0.9984 - val_loss: 3.0392 - val_accuracy: 0.6753\n",
      "Epoch 83/100\n",
      "20/20 [==============================] - 0s 5ms/step - loss: 0.0599 - accuracy: 0.9837 - val_loss: 2.2496 - val_accuracy: 0.6948\n",
      "Epoch 84/100\n",
      "20/20 [==============================] - 0s 5ms/step - loss: 0.0109 - accuracy: 0.9967 - val_loss: 2.6904 - val_accuracy: 0.7143\n",
      "Epoch 85/100\n",
      "20/20 [==============================] - 0s 4ms/step - loss: 0.0427 - accuracy: 0.9870 - val_loss: 2.3638 - val_accuracy: 0.6883\n",
      "Epoch 86/100\n",
      "20/20 [==============================] - 0s 4ms/step - loss: 0.0529 - accuracy: 0.9821 - val_loss: 2.2735 - val_accuracy: 0.7143\n",
      "Epoch 87/100\n",
      "20/20 [==============================] - 0s 5ms/step - loss: 0.0208 - accuracy: 0.9870 - val_loss: 2.3975 - val_accuracy: 0.7143\n",
      "Epoch 88/100\n",
      "20/20 [==============================] - 0s 5ms/step - loss: 0.0336 - accuracy: 0.9935 - val_loss: 2.4468 - val_accuracy: 0.6753\n",
      "Epoch 89/100\n",
      "20/20 [==============================] - 0s 5ms/step - loss: 0.0133 - accuracy: 0.9951 - val_loss: 2.7275 - val_accuracy: 0.6948\n",
      "Epoch 90/100\n",
      "20/20 [==============================] - 0s 5ms/step - loss: 0.0463 - accuracy: 0.9853 - val_loss: 2.7697 - val_accuracy: 0.6948\n",
      "Epoch 91/100\n",
      "20/20 [==============================] - 0s 4ms/step - loss: 0.0207 - accuracy: 0.9935 - val_loss: 2.6216 - val_accuracy: 0.7208\n",
      "Epoch 92/100\n",
      "20/20 [==============================] - 0s 4ms/step - loss: 0.0184 - accuracy: 0.9902 - val_loss: 2.6495 - val_accuracy: 0.7078\n",
      "Epoch 93/100\n",
      "20/20 [==============================] - 0s 6ms/step - loss: 0.0324 - accuracy: 0.9853 - val_loss: 2.8068 - val_accuracy: 0.7013\n",
      "Epoch 94/100\n",
      "20/20 [==============================] - 0s 5ms/step - loss: 0.0100 - accuracy: 0.9967 - val_loss: 3.2617 - val_accuracy: 0.6623\n",
      "Epoch 95/100\n",
      "20/20 [==============================] - 0s 5ms/step - loss: 0.0505 - accuracy: 0.9919 - val_loss: 2.8832 - val_accuracy: 0.7013\n",
      "Epoch 96/100\n",
      "20/20 [==============================] - 0s 4ms/step - loss: 0.0093 - accuracy: 0.9967 - val_loss: 2.9215 - val_accuracy: 0.7013\n",
      "Epoch 97/100\n",
      "20/20 [==============================] - 0s 4ms/step - loss: 0.0113 - accuracy: 0.9967 - val_loss: 3.3642 - val_accuracy: 0.6883\n",
      "Epoch 98/100\n",
      "20/20 [==============================] - 0s 6ms/step - loss: 0.0807 - accuracy: 0.9870 - val_loss: 2.6740 - val_accuracy: 0.6753\n",
      "Epoch 99/100\n",
      "20/20 [==============================] - 0s 4ms/step - loss: 0.0026 - accuracy: 1.0000 - val_loss: 2.9035 - val_accuracy: 0.6883\n",
      "Epoch 100/100\n",
      "20/20 [==============================] - 0s 4ms/step - loss: 0.0040 - accuracy: 0.9967 - val_loss: 2.9130 - val_accuracy: 0.7143\n"
     ]
    },
    {
     "data": {
      "text/plain": [
       "<keras.callbacks.History at 0x25b930f2e80>"
      ]
     },
     "execution_count": 40,
     "metadata": {},
     "output_type": "execute_result"
    }
   ],
   "source": [
    "model.fit(x_train,y_train,epochs=100,initial_epoch=6,validation_data=(x_test,y_test))"
   ]
  },
  {
   "cell_type": "markdown",
   "metadata": {},
   "source": [
    "# All in all one model"
   ]
  },
  {
   "cell_type": "code",
   "execution_count": 41,
   "metadata": {
    "id": "5386lJm593Zm"
   },
   "outputs": [],
   "source": [
    "def build_model(hp):\n",
    "    model=Sequential()\n",
    "    \n",
    "    units=hp.Int(\"units\",min_value=8,max_value=128,step=8)\n",
    "    model.add(Dense(units=units,\n",
    "                    activation=hp.Choice(\"activation\",[\"gelu\",\"elu\",\"relu\",\"leaky_relu\"]),input_dim=8))\n",
    "    model.add(Dropout(hp.Choice(\"dropout\",values=[0.1,0.2,0.3,0.4,0.5,0.6,0.7,0.8,0.9])))\n",
    "    for i in range(hp.Int(\"layers\",min_value=1,max_value=10)):\n",
    "        model.add(Dense(units=units,\n",
    "                    activation=hp.Choice(\"activation\",[\"gelu\",\"elu\",\"relu\",\"leaky_relu\"])))\n",
    "        model.add(Dropout(hp.Choice(\"dropout\",values=[0.1,0.2,0.3,0.4,0.5,0.6,0.7,0.8,0.9])))\n",
    "    model.add(Dense(1,activation=\"sigmoid\"))\n",
    "    optimizers=hp.Choice(\"optimizer\",[\"rmsprop\",\"adam\",\"sgd\",\"adadelta\"])\n",
    "\n",
    "    model.compile(optimizer=optimizers,loss=\"binary_crossentropy\",metrics=[\"accuracy\"])\n",
    "    return model\n",
    "\n",
    "    "
   ]
  },
  {
   "cell_type": "code",
   "execution_count": 42,
   "metadata": {
    "id": "rIc0mKbLE-6n"
   },
   "outputs": [
    {
     "name": "stdout",
     "output_type": "stream",
     "text": [
      "INFO:tensorflow:Reloading Oracle from existing project myd\\all\\oracle.json\n",
      "INFO:tensorflow:Reloading Tuner from myd\\all\\tuner0.json\n"
     ]
    }
   ],
   "source": [
    "tuner=kt.RandomSearch(build_model,objective=\"val_accuracy\",max_trials=5,directory=\"myd\",project_name=\"all\")"
   ]
  },
  {
   "cell_type": "code",
   "execution_count": 43,
   "metadata": {
    "id": "dUtN_GneFY-Z"
   },
   "outputs": [
    {
     "name": "stdout",
     "output_type": "stream",
     "text": [
      "INFO:tensorflow:Oracle triggered exit\n"
     ]
    }
   ],
   "source": [
    "tuner.search(x_train,y_train,epochs=5,validation_data=(x_test,y_test))"
   ]
  },
  {
   "cell_type": "code",
   "execution_count": 44,
   "metadata": {
    "id": "OFxvyoh9G-We"
   },
   "outputs": [
    {
     "data": {
      "text/plain": [
       "{'units': 128,\n",
       " 'activation': 'elu',\n",
       " 'dropout': 0.1,\n",
       " 'layers': 5,\n",
       " 'optimizer': 'rmsprop'}"
      ]
     },
     "execution_count": 44,
     "metadata": {},
     "output_type": "execute_result"
    }
   ],
   "source": [
    "tuner.get_best_hyperparameters()[0].values"
   ]
  },
  {
   "cell_type": "code",
   "execution_count": 45,
   "metadata": {
    "id": "gjksDJQ_HFOy"
   },
   "outputs": [],
   "source": [
    "model=tuner.get_best_models(num_models=1)[0]"
   ]
  },
  {
   "cell_type": "code",
   "execution_count": 46,
   "metadata": {
    "id": "ZCZq_vJmDRPc"
   },
   "outputs": [
    {
     "name": "stdout",
     "output_type": "stream",
     "text": [
      "Epoch 6/100\n",
      "20/20 [==============================] - 2s 18ms/step - loss: 0.4853 - accuracy: 0.7671 - val_loss: 0.4901 - val_accuracy: 0.7857\n",
      "Epoch 7/100\n",
      "20/20 [==============================] - 0s 6ms/step - loss: 0.4799 - accuracy: 0.7655 - val_loss: 0.4675 - val_accuracy: 0.8182\n",
      "Epoch 8/100\n",
      "20/20 [==============================] - 0s 7ms/step - loss: 0.4785 - accuracy: 0.7590 - val_loss: 0.4856 - val_accuracy: 0.7922\n",
      "Epoch 9/100\n",
      "20/20 [==============================] - 0s 8ms/step - loss: 0.4875 - accuracy: 0.7622 - val_loss: 0.5093 - val_accuracy: 0.7727\n",
      "Epoch 10/100\n",
      "20/20 [==============================] - 0s 7ms/step - loss: 0.4811 - accuracy: 0.7622 - val_loss: 0.4957 - val_accuracy: 0.7662\n",
      "Epoch 11/100\n",
      "20/20 [==============================] - 0s 8ms/step - loss: 0.4753 - accuracy: 0.7671 - val_loss: 0.4953 - val_accuracy: 0.7727\n",
      "Epoch 12/100\n",
      "20/20 [==============================] - 0s 7ms/step - loss: 0.4747 - accuracy: 0.7622 - val_loss: 0.5233 - val_accuracy: 0.7662\n",
      "Epoch 13/100\n",
      "20/20 [==============================] - 0s 6ms/step - loss: 0.4777 - accuracy: 0.7606 - val_loss: 0.5412 - val_accuracy: 0.7857\n",
      "Epoch 14/100\n",
      "20/20 [==============================] - 0s 7ms/step - loss: 0.4757 - accuracy: 0.7671 - val_loss: 0.5243 - val_accuracy: 0.7403\n",
      "Epoch 15/100\n",
      "20/20 [==============================] - 0s 6ms/step - loss: 0.4789 - accuracy: 0.7638 - val_loss: 0.4823 - val_accuracy: 0.7727\n",
      "Epoch 16/100\n",
      "20/20 [==============================] - 0s 6ms/step - loss: 0.4833 - accuracy: 0.7752 - val_loss: 0.5181 - val_accuracy: 0.7468\n",
      "Epoch 17/100\n",
      "20/20 [==============================] - 0s 6ms/step - loss: 0.4766 - accuracy: 0.7671 - val_loss: 0.5094 - val_accuracy: 0.7727\n",
      "Epoch 18/100\n",
      "20/20 [==============================] - 0s 7ms/step - loss: 0.4667 - accuracy: 0.7850 - val_loss: 0.5116 - val_accuracy: 0.7532\n",
      "Epoch 19/100\n",
      "20/20 [==============================] - 0s 6ms/step - loss: 0.4740 - accuracy: 0.7736 - val_loss: 0.4611 - val_accuracy: 0.8052\n",
      "Epoch 20/100\n",
      "20/20 [==============================] - 0s 6ms/step - loss: 0.4608 - accuracy: 0.7818 - val_loss: 0.4905 - val_accuracy: 0.7727\n",
      "Epoch 21/100\n",
      "20/20 [==============================] - 0s 6ms/step - loss: 0.4687 - accuracy: 0.7671 - val_loss: 0.4835 - val_accuracy: 0.7597\n",
      "Epoch 22/100\n",
      "20/20 [==============================] - 0s 7ms/step - loss: 0.4704 - accuracy: 0.7801 - val_loss: 0.4748 - val_accuracy: 0.8182\n",
      "Epoch 23/100\n",
      "20/20 [==============================] - 0s 8ms/step - loss: 0.4495 - accuracy: 0.7687 - val_loss: 0.5161 - val_accuracy: 0.7987\n",
      "Epoch 24/100\n",
      "20/20 [==============================] - 0s 8ms/step - loss: 0.4687 - accuracy: 0.7638 - val_loss: 0.5397 - val_accuracy: 0.7597\n",
      "Epoch 25/100\n",
      "20/20 [==============================] - 0s 6ms/step - loss: 0.4631 - accuracy: 0.7687 - val_loss: 0.5053 - val_accuracy: 0.7597\n",
      "Epoch 26/100\n",
      "20/20 [==============================] - 0s 6ms/step - loss: 0.4578 - accuracy: 0.7785 - val_loss: 0.5272 - val_accuracy: 0.7987\n",
      "Epoch 27/100\n",
      "20/20 [==============================] - 0s 6ms/step - loss: 0.4625 - accuracy: 0.7638 - val_loss: 0.5498 - val_accuracy: 0.7792\n",
      "Epoch 28/100\n",
      "20/20 [==============================] - 0s 6ms/step - loss: 0.4486 - accuracy: 0.7866 - val_loss: 0.4758 - val_accuracy: 0.8052\n",
      "Epoch 29/100\n",
      "20/20 [==============================] - 0s 7ms/step - loss: 0.4469 - accuracy: 0.7866 - val_loss: 0.5060 - val_accuracy: 0.8312\n",
      "Epoch 30/100\n",
      "20/20 [==============================] - 0s 6ms/step - loss: 0.4548 - accuracy: 0.7915 - val_loss: 0.5121 - val_accuracy: 0.7922\n",
      "Epoch 31/100\n",
      "20/20 [==============================] - 0s 7ms/step - loss: 0.4750 - accuracy: 0.7801 - val_loss: 0.4640 - val_accuracy: 0.8182\n",
      "Epoch 32/100\n",
      "20/20 [==============================] - 0s 7ms/step - loss: 0.4543 - accuracy: 0.7785 - val_loss: 0.4822 - val_accuracy: 0.7922\n",
      "Epoch 33/100\n",
      "20/20 [==============================] - 0s 7ms/step - loss: 0.4596 - accuracy: 0.7980 - val_loss: 0.5685 - val_accuracy: 0.7143\n",
      "Epoch 34/100\n",
      "20/20 [==============================] - 0s 6ms/step - loss: 0.4643 - accuracy: 0.7655 - val_loss: 0.4779 - val_accuracy: 0.8052\n",
      "Epoch 35/100\n",
      "20/20 [==============================] - 0s 6ms/step - loss: 0.4609 - accuracy: 0.7883 - val_loss: 0.4776 - val_accuracy: 0.7922\n",
      "Epoch 36/100\n",
      "20/20 [==============================] - 0s 6ms/step - loss: 0.4579 - accuracy: 0.7736 - val_loss: 0.4518 - val_accuracy: 0.8052\n",
      "Epoch 37/100\n",
      "20/20 [==============================] - 0s 6ms/step - loss: 0.4552 - accuracy: 0.7850 - val_loss: 0.5235 - val_accuracy: 0.7727\n",
      "Epoch 38/100\n",
      "20/20 [==============================] - 0s 6ms/step - loss: 0.4429 - accuracy: 0.7883 - val_loss: 0.5133 - val_accuracy: 0.7662\n",
      "Epoch 39/100\n",
      "20/20 [==============================] - 0s 6ms/step - loss: 0.4384 - accuracy: 0.7785 - val_loss: 0.4896 - val_accuracy: 0.7792\n",
      "Epoch 40/100\n",
      "20/20 [==============================] - 0s 6ms/step - loss: 0.4554 - accuracy: 0.7687 - val_loss: 0.4798 - val_accuracy: 0.8052\n",
      "Epoch 41/100\n",
      "20/20 [==============================] - 0s 7ms/step - loss: 0.4391 - accuracy: 0.7769 - val_loss: 0.4798 - val_accuracy: 0.7468\n",
      "Epoch 42/100\n",
      "20/20 [==============================] - 0s 6ms/step - loss: 0.4359 - accuracy: 0.7980 - val_loss: 0.5064 - val_accuracy: 0.7922\n",
      "Epoch 43/100\n",
      "20/20 [==============================] - 0s 6ms/step - loss: 0.4506 - accuracy: 0.7769 - val_loss: 0.5302 - val_accuracy: 0.7727\n",
      "Epoch 44/100\n",
      "20/20 [==============================] - 0s 7ms/step - loss: 0.4226 - accuracy: 0.7915 - val_loss: 0.4885 - val_accuracy: 0.7922\n",
      "Epoch 45/100\n",
      "20/20 [==============================] - 0s 6ms/step - loss: 0.4319 - accuracy: 0.8013 - val_loss: 0.4722 - val_accuracy: 0.8052\n",
      "Epoch 46/100\n",
      "20/20 [==============================] - 0s 6ms/step - loss: 0.4547 - accuracy: 0.7932 - val_loss: 0.4529 - val_accuracy: 0.8182\n",
      "Epoch 47/100\n",
      "20/20 [==============================] - 0s 6ms/step - loss: 0.4341 - accuracy: 0.7980 - val_loss: 0.4915 - val_accuracy: 0.7792\n",
      "Epoch 48/100\n",
      "20/20 [==============================] - 0s 6ms/step - loss: 0.4229 - accuracy: 0.8078 - val_loss: 0.4615 - val_accuracy: 0.7987\n",
      "Epoch 49/100\n",
      "20/20 [==============================] - 0s 6ms/step - loss: 0.4339 - accuracy: 0.7915 - val_loss: 0.4787 - val_accuracy: 0.7922\n",
      "Epoch 50/100\n",
      "20/20 [==============================] - 0s 6ms/step - loss: 0.4353 - accuracy: 0.7980 - val_loss: 0.4563 - val_accuracy: 0.7922\n",
      "Epoch 51/100\n",
      "20/20 [==============================] - 0s 6ms/step - loss: 0.4117 - accuracy: 0.8062 - val_loss: 0.5677 - val_accuracy: 0.7403\n",
      "Epoch 52/100\n",
      "20/20 [==============================] - 0s 7ms/step - loss: 0.4175 - accuracy: 0.8013 - val_loss: 0.4531 - val_accuracy: 0.8052\n",
      "Epoch 53/100\n",
      "20/20 [==============================] - 0s 6ms/step - loss: 0.4320 - accuracy: 0.7883 - val_loss: 0.4830 - val_accuracy: 0.7857\n",
      "Epoch 54/100\n",
      "20/20 [==============================] - 0s 6ms/step - loss: 0.4127 - accuracy: 0.8143 - val_loss: 0.4870 - val_accuracy: 0.7922\n",
      "Epoch 55/100\n",
      "20/20 [==============================] - 0s 6ms/step - loss: 0.4249 - accuracy: 0.8029 - val_loss: 0.4914 - val_accuracy: 0.7857\n",
      "Epoch 56/100\n",
      "20/20 [==============================] - 0s 6ms/step - loss: 0.4080 - accuracy: 0.8143 - val_loss: 0.4994 - val_accuracy: 0.8247\n",
      "Epoch 57/100\n",
      "20/20 [==============================] - 0s 6ms/step - loss: 0.4301 - accuracy: 0.7997 - val_loss: 0.4792 - val_accuracy: 0.8247\n",
      "Epoch 58/100\n",
      "20/20 [==============================] - 0s 6ms/step - loss: 0.4085 - accuracy: 0.7948 - val_loss: 0.4813 - val_accuracy: 0.8117\n",
      "Epoch 59/100\n",
      "20/20 [==============================] - 0s 6ms/step - loss: 0.4301 - accuracy: 0.8078 - val_loss: 0.4639 - val_accuracy: 0.7857\n",
      "Epoch 60/100\n",
      "20/20 [==============================] - 0s 6ms/step - loss: 0.4055 - accuracy: 0.8143 - val_loss: 0.5438 - val_accuracy: 0.7792\n",
      "Epoch 61/100\n",
      "20/20 [==============================] - 0s 6ms/step - loss: 0.4010 - accuracy: 0.8143 - val_loss: 0.4807 - val_accuracy: 0.8052\n",
      "Epoch 62/100\n",
      "20/20 [==============================] - 0s 6ms/step - loss: 0.4033 - accuracy: 0.8029 - val_loss: 0.4901 - val_accuracy: 0.8247\n",
      "Epoch 63/100\n",
      "20/20 [==============================] - 0s 6ms/step - loss: 0.4150 - accuracy: 0.8013 - val_loss: 0.4986 - val_accuracy: 0.7597\n"
     ]
    },
    {
     "name": "stdout",
     "output_type": "stream",
     "text": [
      "Epoch 64/100\n",
      "20/20 [==============================] - 0s 6ms/step - loss: 0.4002 - accuracy: 0.8257 - val_loss: 0.4767 - val_accuracy: 0.8052\n",
      "Epoch 65/100\n",
      "20/20 [==============================] - 0s 6ms/step - loss: 0.4153 - accuracy: 0.8192 - val_loss: 0.5575 - val_accuracy: 0.7662\n",
      "Epoch 66/100\n",
      "20/20 [==============================] - 0s 6ms/step - loss: 0.4122 - accuracy: 0.8062 - val_loss: 0.4781 - val_accuracy: 0.7922\n",
      "Epoch 67/100\n",
      "20/20 [==============================] - 0s 6ms/step - loss: 0.3927 - accuracy: 0.8274 - val_loss: 0.4867 - val_accuracy: 0.8052\n",
      "Epoch 68/100\n",
      "20/20 [==============================] - 0s 6ms/step - loss: 0.4017 - accuracy: 0.8127 - val_loss: 0.5150 - val_accuracy: 0.8052\n",
      "Epoch 69/100\n",
      "20/20 [==============================] - 0s 6ms/step - loss: 0.3816 - accuracy: 0.8257 - val_loss: 0.5172 - val_accuracy: 0.8052\n",
      "Epoch 70/100\n",
      "20/20 [==============================] - 0s 6ms/step - loss: 0.3822 - accuracy: 0.8388 - val_loss: 0.4933 - val_accuracy: 0.7792\n",
      "Epoch 71/100\n",
      "20/20 [==============================] - 0s 6ms/step - loss: 0.3926 - accuracy: 0.8322 - val_loss: 0.5539 - val_accuracy: 0.7987\n",
      "Epoch 72/100\n",
      "20/20 [==============================] - 0s 6ms/step - loss: 0.4083 - accuracy: 0.8046 - val_loss: 0.5218 - val_accuracy: 0.7987\n",
      "Epoch 73/100\n",
      "20/20 [==============================] - 0s 6ms/step - loss: 0.3701 - accuracy: 0.8518 - val_loss: 0.5320 - val_accuracy: 0.7792\n",
      "Epoch 74/100\n",
      "20/20 [==============================] - 0s 6ms/step - loss: 0.3749 - accuracy: 0.8355 - val_loss: 0.5430 - val_accuracy: 0.7857\n",
      "Epoch 75/100\n",
      "20/20 [==============================] - 0s 6ms/step - loss: 0.3775 - accuracy: 0.8290 - val_loss: 0.5104 - val_accuracy: 0.7857\n",
      "Epoch 76/100\n",
      "20/20 [==============================] - 0s 6ms/step - loss: 0.3815 - accuracy: 0.8404 - val_loss: 0.5597 - val_accuracy: 0.7727\n",
      "Epoch 77/100\n",
      "20/20 [==============================] - 0s 6ms/step - loss: 0.3780 - accuracy: 0.8322 - val_loss: 0.5094 - val_accuracy: 0.7727\n",
      "Epoch 78/100\n",
      "20/20 [==============================] - 0s 6ms/step - loss: 0.3758 - accuracy: 0.8225 - val_loss: 0.5333 - val_accuracy: 0.7403\n",
      "Epoch 79/100\n",
      "20/20 [==============================] - 0s 6ms/step - loss: 0.3577 - accuracy: 0.8436 - val_loss: 0.5724 - val_accuracy: 0.7468\n",
      "Epoch 80/100\n",
      "20/20 [==============================] - 0s 6ms/step - loss: 0.3748 - accuracy: 0.8306 - val_loss: 0.5287 - val_accuracy: 0.7597\n",
      "Epoch 81/100\n",
      "20/20 [==============================] - 0s 6ms/step - loss: 0.3419 - accuracy: 0.8599 - val_loss: 0.5646 - val_accuracy: 0.7727\n",
      "Epoch 82/100\n",
      "20/20 [==============================] - 0s 6ms/step - loss: 0.4035 - accuracy: 0.8111 - val_loss: 0.5526 - val_accuracy: 0.7662\n",
      "Epoch 83/100\n",
      "20/20 [==============================] - 0s 6ms/step - loss: 0.3484 - accuracy: 0.8436 - val_loss: 0.5740 - val_accuracy: 0.8117\n",
      "Epoch 84/100\n",
      "20/20 [==============================] - 0s 6ms/step - loss: 0.3579 - accuracy: 0.8192 - val_loss: 0.5567 - val_accuracy: 0.7987\n",
      "Epoch 85/100\n",
      "20/20 [==============================] - 0s 6ms/step - loss: 0.3486 - accuracy: 0.8453 - val_loss: 0.5573 - val_accuracy: 0.6948\n",
      "Epoch 86/100\n",
      "20/20 [==============================] - 0s 6ms/step - loss: 0.3459 - accuracy: 0.8404 - val_loss: 0.5445 - val_accuracy: 0.7857\n",
      "Epoch 87/100\n",
      "20/20 [==============================] - 0s 6ms/step - loss: 0.3463 - accuracy: 0.8436 - val_loss: 0.5982 - val_accuracy: 0.7532\n",
      "Epoch 88/100\n",
      "20/20 [==============================] - 0s 6ms/step - loss: 0.3529 - accuracy: 0.8453 - val_loss: 0.5610 - val_accuracy: 0.7532\n",
      "Epoch 89/100\n",
      "20/20 [==============================] - 0s 6ms/step - loss: 0.3292 - accuracy: 0.8485 - val_loss: 0.5529 - val_accuracy: 0.7338\n",
      "Epoch 90/100\n",
      "20/20 [==============================] - 0s 6ms/step - loss: 0.3316 - accuracy: 0.8567 - val_loss: 0.5296 - val_accuracy: 0.7662\n",
      "Epoch 91/100\n",
      "20/20 [==============================] - 0s 6ms/step - loss: 0.3448 - accuracy: 0.8664 - val_loss: 0.5757 - val_accuracy: 0.7403\n",
      "Epoch 92/100\n",
      "20/20 [==============================] - 0s 6ms/step - loss: 0.3341 - accuracy: 0.8469 - val_loss: 0.6010 - val_accuracy: 0.7532\n",
      "Epoch 93/100\n",
      "20/20 [==============================] - 0s 6ms/step - loss: 0.3153 - accuracy: 0.8632 - val_loss: 0.6158 - val_accuracy: 0.7662\n",
      "Epoch 94/100\n",
      "20/20 [==============================] - 0s 6ms/step - loss: 0.3330 - accuracy: 0.8583 - val_loss: 0.5616 - val_accuracy: 0.7403\n",
      "Epoch 95/100\n",
      "20/20 [==============================] - 0s 7ms/step - loss: 0.3290 - accuracy: 0.8485 - val_loss: 0.5382 - val_accuracy: 0.7273\n",
      "Epoch 96/100\n",
      "20/20 [==============================] - 0s 6ms/step - loss: 0.3155 - accuracy: 0.8616 - val_loss: 0.6242 - val_accuracy: 0.8052\n",
      "Epoch 97/100\n",
      "20/20 [==============================] - 0s 6ms/step - loss: 0.3238 - accuracy: 0.8502 - val_loss: 0.5961 - val_accuracy: 0.7727\n",
      "Epoch 98/100\n",
      "20/20 [==============================] - 0s 6ms/step - loss: 0.3174 - accuracy: 0.8567 - val_loss: 0.5815 - val_accuracy: 0.7468\n",
      "Epoch 99/100\n",
      "20/20 [==============================] - 0s 6ms/step - loss: 0.3118 - accuracy: 0.8616 - val_loss: 0.6259 - val_accuracy: 0.7403\n",
      "Epoch 100/100\n",
      "20/20 [==============================] - 0s 6ms/step - loss: 0.3133 - accuracy: 0.8436 - val_loss: 0.5765 - val_accuracy: 0.7727\n"
     ]
    },
    {
     "data": {
      "text/plain": [
       "<keras.callbacks.History at 0x25b91eb60d0>"
      ]
     },
     "execution_count": 46,
     "metadata": {},
     "output_type": "execute_result"
    }
   ],
   "source": [
    "model.fit(x_train,y_train,epochs=100,initial_epoch=5,validation_data=(x_test,y_test),batch_size=32)"
   ]
  },
  {
   "cell_type": "code",
   "execution_count": null,
   "metadata": {
    "id": "bH_EDQb4DA0S"
   },
   "outputs": [],
   "source": []
  }
 ],
 "metadata": {
  "accelerator": "GPU",
  "colab": {
   "private_outputs": true,
   "provenance": []
  },
  "gpuClass": "standard",
  "kernelspec": {
   "display_name": "Python 3 (ipykernel)",
   "language": "python",
   "name": "python3"
  },
  "language_info": {
   "codemirror_mode": {
    "name": "ipython",
    "version": 3
   },
   "file_extension": ".py",
   "mimetype": "text/x-python",
   "name": "python",
   "nbconvert_exporter": "python",
   "pygments_lexer": "ipython3",
   "version": "3.9.7"
  }
 },
 "nbformat": 4,
 "nbformat_minor": 1
}
