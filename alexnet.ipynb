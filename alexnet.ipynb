{
 "cells": [
  {
   "cell_type": "code",
   "execution_count": 1,
   "metadata": {
    "id": "uQlza9nG_lLm"
   },
   "outputs": [
    {
     "name": "stderr",
     "output_type": "stream",
     "text": [
      "C:\\Users\\Abdur rahim nishad\\anaconda3\\lib\\site-packages\\numpy\\_distributor_init.py:30: UserWarning: loaded more than 1 DLL from .libs:\n",
      "C:\\Users\\Abdur rahim nishad\\anaconda3\\lib\\site-packages\\numpy\\.libs\\libopenblas.EL2C6PLE4ZYW3ECEVIV3OXXGRN2NRFM2.gfortran-win_amd64.dll\n",
      "C:\\Users\\Abdur rahim nishad\\anaconda3\\lib\\site-packages\\numpy\\.libs\\libopenblas.XWYDX2IKJW2NMTWSFYNGFUWKQU3LYTCZ.gfortran-win_amd64.dll\n",
      "  warnings.warn(\"loaded more than 1 DLL from .libs:\"\n"
     ]
    }
   ],
   "source": [
    "import tensorflow \n",
    "import numpy as np\n",
    "from tensorflow import keras\n",
    "from keras.layers import Dense,Dropout,Flatten,Conv2D,MaxPooling2D,ZeroPadding2D\n",
    "from keras.models import Sequential\n",
    "from keras.datasets import mnist"
   ]
  },
  {
   "cell_type": "code",
   "execution_count": null,
   "metadata": {
    "id": "ISDA4VgVAcZU"
   },
   "outputs": [],
   "source": [
    "(X_train,y_train),(X_test,y_test)=mnist.load_data()"
   ]
  },
  {
   "cell_type": "code",
   "execution_count": null,
   "metadata": {
    "colab": {
     "base_uri": "https://localhost:8080/"
    },
    "id": "h8cMVKGjBL0s",
    "outputId": "0386affc-11f8-462b-b12e-22d97100310b"
   },
   "outputs": [],
   "source": [
    "X_train"
   ]
  },
  {
   "cell_type": "code",
   "execution_count": null,
   "metadata": {
    "id": "7_u9-JuZUVkL"
   },
   "outputs": [],
   "source": [
    "X_train=np.expand_dims(X_train,-1)\n",
    "X_test=np.expand_dims(X_test,-1)"
   ]
  },
  {
   "cell_type": "code",
   "execution_count": null,
   "metadata": {
    "id": "tyZHC9_hVPsJ"
   },
   "outputs": [],
   "source": [
    "X_train=X_train/255\n",
    "X_test=X_test/255"
   ]
  },
  {
   "cell_type": "code",
   "execution_count": null,
   "metadata": {
    "colab": {
     "base_uri": "https://localhost:8080/"
    },
    "id": "Tw_o-976UihR",
    "outputId": "9be1ea61-f467-4421-9264-4968dc4a6758"
   },
   "outputs": [],
   "source": [
    "X_train.ndim"
   ]
  },
  {
   "cell_type": "code",
   "execution_count": null,
   "metadata": {
    "colab": {
     "base_uri": "https://localhost:8080/"
    },
    "id": "nymVP2CnUm8o",
    "outputId": "e01f2087-7684-4595-e79b-10571b16dc31"
   },
   "outputs": [],
   "source": [
    "X_train.shape"
   ]
  },
  {
   "cell_type": "code",
   "execution_count": null,
   "metadata": {
    "colab": {
     "base_uri": "https://localhost:8080/"
    },
    "id": "QQGyWagOVEI0",
    "outputId": "ccc60d67-7a4d-457d-fd3f-d10f9e60223e"
   },
   "outputs": [],
   "source": [
    "y_train.shape"
   ]
  },
  {
   "cell_type": "code",
   "execution_count": null,
   "metadata": {
    "id": "78idXUmjUrb5"
   },
   "outputs": [],
   "source": [
    "from sklearn.model_selection import train_test_split"
   ]
  },
  {
   "cell_type": "code",
   "execution_count": null,
   "metadata": {
    "id": "aD7UosobUth5"
   },
   "outputs": [],
   "source": [
    "X_train,X_val,y_train,y_val=train_test_split(X_train,y_train,test_size=.2,random_state=3)"
   ]
  },
  {
   "cell_type": "code",
   "execution_count": null,
   "metadata": {
    "colab": {
     "base_uri": "https://localhost:8080/"
    },
    "id": "0pNhuxmGVZHt",
    "outputId": "a15f7ac8-b616-4433-ff46-28e8eaa62cd5"
   },
   "outputs": [],
   "source": [
    "X_train.shape"
   ]
  },
  {
   "cell_type": "code",
   "execution_count": null,
   "metadata": {
    "id": "e8w9LA6hBN5v"
   },
   "outputs": [],
   "source": [
    "model=Sequential()\n",
    "model.add(Conv2D(96,kernel_size=(11,11),padding=\"valid\",strides=(4,4),activation=\"relu\",input_shape=(227,227,3),))\n",
    "model.add(MaxPooling2D(pool_size=(3,3),strides=2,padding=\"valid\"))\n",
    "\n",
    "model.add(Conv2D(256,kernel_size=(5,5),padding=\"same\",strides=(1,1),activation=\"relu\"))\n",
    "model.add(MaxPooling2D(pool_size=(3,3),strides=2,padding=\"valid\"))\n",
    "\n",
    "model.add(Conv2D(384,kernel_size=(3,3),padding=\"same\",strides=(1,1),activation=\"relu\"))\n",
    "\n",
    "\n",
    "model.add(Conv2D(384,kernel_size=(3,3),padding=\"same\",strides=(1,1),activation=\"relu\"))\n",
    "\n",
    "model.add(Conv2D(256,kernel_size=(3,3),padding=\"same\",strides=(1,1),activation=\"relu\"))\n",
    "model.add(MaxPooling2D(pool_size=(3,3),strides=2,padding=\"valid\"))\n",
    "\n",
    "model.add(Flatten())\n",
    "# ,input_shape=(27*27*3)\n",
    "model.add(Dense(4096,activation=\"relu\"))\n",
    "model.add(Dense(4096,activation=\"relu\"))\n",
    "model.add(Dense(1000,activation=\"softmax\"))\n"
   ]
  },
  {
   "cell_type": "code",
   "execution_count": null,
   "metadata": {
    "colab": {
     "base_uri": "https://localhost:8080/"
    },
    "id": "BUZrp0EmHNdT",
    "outputId": "fc390079-5f87-4eb8-d517-feb74068604a"
   },
   "outputs": [],
   "source": [
    "model.summary()"
   ]
  },
  {
   "cell_type": "code",
   "execution_count": null,
   "metadata": {
    "id": "nasmRds-SsEo"
   },
   "outputs": [],
   "source": [
    "model.compile(optimizer=\"Adam\",loss=\"sparse_categorical_crossentropy\",metrics=[\"accuracy\"])"
   ]
  },
  {
   "cell_type": "code",
   "execution_count": null,
   "metadata": {
    "colab": {
     "base_uri": "https://localhost:8080/",
     "height": 652
    },
    "id": "VD69Pgk1TM-7",
    "outputId": "11640884-d49c-4919-b0cb-9dce57775ce0"
   },
   "outputs": [],
   "source": [
    "# model.fit(X_train,y_train,epochs=10,validation_split=.2)\n",
    "model.fit(X_train,y_train,epochs=10,validation_data=(X_val,y_val),batch_size=512)"
   ]
  },
  {
   "cell_type": "code",
   "execution_count": null,
   "metadata": {
    "colab": {
     "base_uri": "https://localhost:8080/"
    },
    "id": "UDrTYueRTkjo",
    "outputId": "6cdb895b-b2a9-4db3-85cb-fe4458a693f2"
   },
   "outputs": [],
   "source": [
    "y_train.shape"
   ]
  },
  {
   "cell_type": "code",
   "execution_count": null,
   "metadata": {
    "id": "bbCJh6rBVzS-"
   },
   "outputs": [],
   "source": []
  }
 ],
 "metadata": {
  "accelerator": "GPU",
  "colab": {
   "provenance": []
  },
  "gpuClass": "standard",
  "kernelspec": {
   "display_name": "Python 3 (ipykernel)",
   "language": "python",
   "name": "python3"
  },
  "language_info": {
   "codemirror_mode": {
    "name": "ipython",
    "version": 3
   },
   "file_extension": ".py",
   "mimetype": "text/x-python",
   "name": "python",
   "nbconvert_exporter": "python",
   "pygments_lexer": "ipython3",
   "version": "3.9.7"
  }
 },
 "nbformat": 4,
 "nbformat_minor": 1
}
